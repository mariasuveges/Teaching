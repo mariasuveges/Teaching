{
 "cells": [
  {
   "cell_type": "markdown",
   "metadata": {},
   "source": [
    "Comments for myself:\n",
    "\n",
    "TOFINDOUT:\n",
    "1. How to add to plots without retyping the whole thing\n",
    "2. How to make    cep_gr.aggregate(lambda cp: smf.ols(formula = 'W ~ logP1', data = cp).fit())     work; Sotiria said I should make a function out of it.\n",
    "3. How to extract the value of the t_test from the smf_ols_object.summary()\n",
    "4. Try out:\n",
    "C = np.logspace(-2, 2, 10)\n",
    "scores = [cross_val_score(SVC(C=Ci), X, y, cv=5, scoring='precision').mean() for Ci in C]\n",
    "definition apparently of an array in a nice elegant form\n",
    "\n",
    "TODO:\n",
    "1. add kernel smoother to the histograms\n",
    "2. check the qq-plots for the other distributions (especially Poisson which is discrete) how to do it? Give the template \n",
    "3. give the command how to extract parameter significance table (t-test values) from the "
   ]
  },
  {
   "cell_type": "markdown",
   "metadata": {},
   "source": [
    "1. Distributions: \n",
    "how to get to know better the distribution of the data?\n",
    "\n",
    "1.1. Probability distributions"
   ]
  },
  {
   "cell_type": "code",
   "execution_count": 2,
   "metadata": {
    "collapsed": false
   },
   "outputs": [],
   "source": [
    "import scipy\n",
    "import pandas as pd\n",
    "import numpy as np\n",
    "import math\n",
    "import statsmodels.api as sm\n",
    "from matplotlib import pyplot as plt"
   ]
  },
  {
   "cell_type": "markdown",
   "metadata": {},
   "source": [
    "Ex1. First, simulate 9 times 200 standard random normal variables, and inspect the variations in the qq-plots. "
   ]
  },
  {
   "cell_type": "code",
   "execution_count": null,
   "metadata": {
    "collapsed": false
   },
   "outputs": [],
   "source": [
    "fig = plt.figure(1)\n",
    "for ii in range(1, 10):\n",
    "    rv = scipy.stats.norm.rvs(0, 1, size = 200)\n",
    "    ax = fig.add_subplot(3,3,ii)\n",
    "    sm.qqplot(rv, line = 's', ax = ax)\n",
    "plt.show()"
   ]
  },
  {
   "cell_type": "markdown",
   "metadata": {},
   "source": [
    "Repeat the exercise using random normal variables with mean 3 and standard deviation 0.4, using now 3 times each of 4,20 and 200.\n",
    "\n",
    "The automatically added line on the qq-plot is estimated by taking the empirical mean and square-root empirical variance of the sample; these are the moment estimators of the parameters of a normal sample. For a normal distribution, if X ~ N(0,1), then the variable  Y = m + sX ~ N(m, s^2). Therefore, if you plotted your sample Y against standard normal quantiles, a line using the true mean m as intersect and the true standard deviation s as slope should represent the truth, and probably should fit the sample well. \n",
    "\n",
    "Add a line with intersection 3 and slope 0.4 (representing the n = Infty perfect sample). Are the empirical mean and variance good estimators of the population mean and variance?   "
   ]
  },
  {
   "cell_type": "code",
   "execution_count": null,
   "metadata": {
    "collapsed": false
   },
   "outputs": [],
   "source": [
    "x = np.arange(-3.,3.,0.01)\n",
    "y = 3. + 0.4*x\n",
    "nsample = [4,4,4,20,20,20,200,200,200]\n",
    "fig = plt.figure(2)\n",
    "for ii in range(0,9):\n",
    "    rv = scipy.stats.norm.rvs(3., 0.4, size = nsample[ii])\n",
    "    ax = fig.add_subplot(3,3,ii+1)\n",
    "    sm.qqplot(rv, line = 's', ax = ax)\n",
    "    line, = ax.plot(x, y, color='c')\n",
    "plt.show()"
   ]
  },
  {
   "cell_type": "markdown",
   "metadata": {},
   "source": [
    "The qq-plot provides a powerful check of distributional assumptions. Use the template below to see the following distributions: Cauchy (heavy-tailed), chi-squared (much used), beta(0.5,2) (restricted to the interval [0,1]; contains the uniform distribution as beta(1,1)) and two Poisson distributions, with mean 3 and 250. \n",
    "\n",
    "This time, we use the option fit = True in sm.qqplot, so that the sample is standardized by its mean and standard error before plotting. \n",
    "\n",
    "Replace the names of the random distribution in the codes below with those listed above (check the parameters at http://docs.scipy.org/doc/scipy/reference/stats.html). Compare the tail behavior on the plot of the density and on the qq-plot. "
   ]
  },
  {
   "cell_type": "code",
   "execution_count": 17,
   "metadata": {
    "collapsed": false
   },
   "outputs": [],
   "source": [
    "x = np.linspace(scipy.stats.cauchy.ppf(0.005), scipy.stats.cauchy.ppf(0.995), 200)\n",
    "#x = np.arange(scipy.stats.poisson.ppf(0.005, mu=250), scipy.stats.poisson.ppf(0.995, mu=250), 1)\n",
    "\n",
    "rv = scipy.stats.poisson.rvs(size = 400, mu=250)\n",
    "\n",
    "fig = plt.figure(3)\n",
    "ax1 = fig.add_subplot(121)\n",
    "plt.hist(rv, 20, normed=1, facecolor='y', alpha=0.75)\n",
    "ax1.plot(x, scipy.stats.cauchy.pdf(x),'b-', lw=2)\n",
    "#ax1.vlines(x, 0, scipy.stats.poisson.pmf(x, mu=250), colors='b', lw=5, alpha=0.2)\n",
    "ax2 = fig.add_subplot(122)\n",
    "sm.qqplot(rv, line = 's', ax = ax2)\n",
    "\n",
    "plt.show()"
   ]
  },
  {
   "cell_type": "code",
   "execution_count": 14,
   "metadata": {
    "collapsed": false
   },
   "outputs": [
    {
     "name": "stdout",
     "output_type": "stream",
     "text": [
      "[ 214.]\n",
      "[ 0.00178463]\n"
     ]
    }
   ],
   "source": [
    "print x\n",
    "print scipy.stats.poisson.pmf(x, mu=250)"
   ]
  },
  {
   "cell_type": "markdown",
   "metadata": {},
   "source": [
    "1. Distributions: \n",
    "\n",
    "1.2. Estimating the parameters and an (incomplete) collection of frequent problems\n",
    "\n",
    "We will walk through some of the simplest complications that a set of photometric measurements of a constant star can show up, and see how to recognize them by the means of the quantile-quantile plot. \n"
   ]
  },
  {
   "cell_type": "code",
   "execution_count": null,
   "metadata": {
    "collapsed": false
   },
   "outputs": [],
   "source": [
    "dfr = pd.read_csv(\"/Users/mariasuveges/Documents/presentations/Chicago/IntroStat_demo.csv\")"
   ]
  },
  {
   "cell_type": "code",
   "execution_count": null,
   "metadata": {
    "collapsed": false
   },
   "outputs": [],
   "source": [
    "dfr['mag.outlier'].quantile([0.,0.33,0.66,1.0])"
   ]
  },
  {
   "cell_type": "code",
   "execution_count": null,
   "metadata": {
    "collapsed": false
   },
   "outputs": [],
   "source": [
    "dfr['mag.outlier'].min()"
   ]
  },
  {
   "cell_type": "code",
   "execution_count": null,
   "metadata": {
    "collapsed": false
   },
   "outputs": [],
   "source": [
    "fig = plt.figure(1)\n",
    "plt.subplot(121)\n",
    "n, bins, patches = plt.hist(dfr['mag.outlier'], 12, normed=1, facecolor='y', alpha=0.75)\n",
    "ax = fig.add_subplot(122)\n",
    "sm.qqplot(dfr['mag.outlier'], line = 's', ax = ax)\n",
    "\n",
    "plt.show()"
   ]
  },
  {
   "cell_type": "markdown",
   "metadata": {},
   "source": [
    "Replace the line by one defined using the quantile estimators (a line passing through the first and third quartiles)."
   ]
  },
  {
   "cell_type": "code",
   "execution_count": null,
   "metadata": {
    "collapsed": false
   },
   "outputs": [],
   "source": [
    "fig = plt.figure(1)\n",
    "plt.subplot(121)\n",
    "n, bins, patches = plt.hist(dfr['mag.outlier'], 12, normed=1, facecolor='y', alpha=0.75)\n",
    "ax = fig.add_subplot(122)\n",
    "sm.qqplot(dfr['mag.outlier'], line = 'q', ax = ax)\n",
    "plt.show()"
   ]
  },
  {
   "cell_type": "markdown",
   "metadata": {},
   "source": [
    "Some robust (regression) models, M-estimators: http://statsmodels.sourceforge.net/stable/rlm.html"
   ]
  },
  {
   "cell_type": "code",
   "execution_count": null,
   "metadata": {
    "collapsed": false
   },
   "outputs": [],
   "source": [
    "def std_fn(x, mean, std):\n",
    "    res = (x-mean) / std\n",
    "    return res\n",
    "\n",
    "w = dfr['mag5.error']**(-2)\n",
    "m = np.average(dfr['mag5'], weights = w)\n",
    "std5 = std_fn(x = dfr['mag5'], mean = m, std = dfr['mag5.error'])\n",
    "\n",
    "fig = plt.figure(1)\n",
    "plt.subplot(121)\n",
    "n, bins, patches = plt.hist(std5, 12, normed=1, facecolor='grey', alpha=0.75)\n",
    "ax = fig.add_subplot(122)\n",
    "sm.qqplot(std5, line = '45', ax = ax)\n",
    "\n",
    "plt.show()"
   ]
  },
  {
   "cell_type": "code",
   "execution_count": null,
   "metadata": {
    "collapsed": false
   },
   "outputs": [],
   "source": [
    "fig = plt.figure(1)\n",
    "\n",
    "plt.plot(dfr['time'], dfr['mag5'], 'ro')\n",
    "\n",
    "plt.xlabel('Time')\n",
    "plt.ylabel('Magnitude')\n",
    "# this is just to extend a bit the plotting area, so that no points fell exactly on the border:\n",
    "mn, mx = sorted(dfr['time'])[::len(dfr['time'])-1]\n",
    "plt.xlim(mn - 0.05*(mx-mn), mx + 0.05*(mx-mn))\n",
    "\n",
    "plt.show()"
   ]
  },
  {
   "cell_type": "code",
   "execution_count": 20,
   "metadata": {
    "collapsed": false
   },
   "outputs": [],
   "source": [
    "cep = pd.read_csv(\"/Users/mariasuveges/Documents/presentations/Chicago/Cepheids.csv\")"
   ]
  },
  {
   "cell_type": "code",
   "execution_count": 4,
   "metadata": {
    "collapsed": false
   },
   "outputs": [
    {
     "data": {
      "text/html": [
       "<div>\n",
       "<table border=\"1\" class=\"dataframe\">\n",
       "  <thead>\n",
       "    <tr style=\"text-align: right;\">\n",
       "      <th></th>\n",
       "      <th>name</th>\n",
       "      <th>RA0</th>\n",
       "      <th>Decl0</th>\n",
       "      <th>Mode</th>\n",
       "      <th>Cloud</th>\n",
       "      <th>W</th>\n",
       "      <th>logP1</th>\n",
       "      <th>VI</th>\n",
       "    </tr>\n",
       "  </thead>\n",
       "  <tbody>\n",
       "    <tr>\n",
       "      <th>1</th>\n",
       "      <td>OGLE-LMC-CEP-0005</td>\n",
       "      <td>4.592089</td>\n",
       "      <td>-69.73497</td>\n",
       "      <td>F</td>\n",
       "      <td>LMC</td>\n",
       "      <td>13.49540</td>\n",
       "      <td>0.749122</td>\n",
       "      <td>0.752</td>\n",
       "    </tr>\n",
       "    <tr>\n",
       "      <th>2</th>\n",
       "      <td>OGLE-LMC-CEP-0012</td>\n",
       "      <td>4.630203</td>\n",
       "      <td>-67.21442</td>\n",
       "      <td>F</td>\n",
       "      <td>LMC</td>\n",
       "      <td>14.54210</td>\n",
       "      <td>0.424912</td>\n",
       "      <td>0.598</td>\n",
       "    </tr>\n",
       "    <tr>\n",
       "      <th>3</th>\n",
       "      <td>OGLE-LMC-CEP-0016</td>\n",
       "      <td>4.642367</td>\n",
       "      <td>-67.64631</td>\n",
       "      <td>F</td>\n",
       "      <td>LMC</td>\n",
       "      <td>12.03300</td>\n",
       "      <td>1.021456</td>\n",
       "      <td>1.080</td>\n",
       "    </tr>\n",
       "    <tr>\n",
       "      <th>4</th>\n",
       "      <td>OGLE-LMC-CEP-0017</td>\n",
       "      <td>4.649119</td>\n",
       "      <td>-69.68839</td>\n",
       "      <td>F</td>\n",
       "      <td>LMC</td>\n",
       "      <td>14.34215</td>\n",
       "      <td>0.565524</td>\n",
       "      <td>0.647</td>\n",
       "    </tr>\n",
       "    <tr>\n",
       "      <th>5</th>\n",
       "      <td>OGLE-LMC-CEP-0018</td>\n",
       "      <td>4.649717</td>\n",
       "      <td>-68.95689</td>\n",
       "      <td>F</td>\n",
       "      <td>LMC</td>\n",
       "      <td>13.93705</td>\n",
       "      <td>0.607225</td>\n",
       "      <td>0.829</td>\n",
       "    </tr>\n",
       "    <tr>\n",
       "      <th>6</th>\n",
       "      <td>OGLE-LMC-CEP-0021</td>\n",
       "      <td>4.658600</td>\n",
       "      <td>-69.26183</td>\n",
       "      <td>F</td>\n",
       "      <td>LMC</td>\n",
       "      <td>13.53005</td>\n",
       "      <td>0.737032</td>\n",
       "      <td>0.769</td>\n",
       "    </tr>\n",
       "    <tr>\n",
       "      <th>7</th>\n",
       "      <td>OGLE-LMC-CEP-0023</td>\n",
       "      <td>4.679856</td>\n",
       "      <td>-68.98564</td>\n",
       "      <td>F</td>\n",
       "      <td>LMC</td>\n",
       "      <td>15.21055</td>\n",
       "      <td>0.230915</td>\n",
       "      <td>0.719</td>\n",
       "    </tr>\n",
       "    <tr>\n",
       "      <th>8</th>\n",
       "      <td>OGLE-LMC-CEP-0025</td>\n",
       "      <td>4.681769</td>\n",
       "      <td>-69.11508</td>\n",
       "      <td>F</td>\n",
       "      <td>LMC</td>\n",
       "      <td>14.08130</td>\n",
       "      <td>0.572116</td>\n",
       "      <td>0.814</td>\n",
       "    </tr>\n",
       "    <tr>\n",
       "      <th>9</th>\n",
       "      <td>OGLE-LMC-CEP-0026</td>\n",
       "      <td>4.686733</td>\n",
       "      <td>-68.79975</td>\n",
       "      <td>F</td>\n",
       "      <td>LMC</td>\n",
       "      <td>14.51275</td>\n",
       "      <td>0.410047</td>\n",
       "      <td>0.615</td>\n",
       "    </tr>\n",
       "  </tbody>\n",
       "</table>\n",
       "</div>"
      ],
      "text/plain": [
       "                name       RA0     Decl0 Mode Cloud         W     logP1     VI\n",
       "1  OGLE-LMC-CEP-0005  4.592089 -69.73497    F   LMC  13.49540  0.749122  0.752\n",
       "2  OGLE-LMC-CEP-0012  4.630203 -67.21442    F   LMC  14.54210  0.424912  0.598\n",
       "3  OGLE-LMC-CEP-0016  4.642367 -67.64631    F   LMC  12.03300  1.021456  1.080\n",
       "4  OGLE-LMC-CEP-0017  4.649119 -69.68839    F   LMC  14.34215  0.565524  0.647\n",
       "5  OGLE-LMC-CEP-0018  4.649717 -68.95689    F   LMC  13.93705  0.607225  0.829\n",
       "6  OGLE-LMC-CEP-0021  4.658600 -69.26183    F   LMC  13.53005  0.737032  0.769\n",
       "7  OGLE-LMC-CEP-0023  4.679856 -68.98564    F   LMC  15.21055  0.230915  0.719\n",
       "8  OGLE-LMC-CEP-0025  4.681769 -69.11508    F   LMC  14.08130  0.572116  0.814\n",
       "9  OGLE-LMC-CEP-0026  4.686733 -68.79975    F   LMC  14.51275  0.410047  0.615"
      ]
     },
     "execution_count": 4,
     "metadata": {},
     "output_type": "execute_result"
    }
   ],
   "source": [
    "cep[1:10]"
   ]
  },
  {
   "cell_type": "code",
   "execution_count": 21,
   "metadata": {
    "collapsed": false
   },
   "outputs": [],
   "source": [
    "i_lmc = cep['Cloud'] == \"LMC\"\n",
    "i_fu = cep['Mode'] == \"F\"\n",
    "\n"
   ]
  },
  {
   "cell_type": "code",
   "execution_count": null,
   "metadata": {
    "collapsed": true
   },
   "outputs": [],
   "source": [
    "fig = plt.figure(4)\n",
    "ax1 = fig.add_subplot(211)\n",
    "plt.plot(cep[i_lmc & i_fu]['logP1'], cep[i_lmc & i_fu]['W'], 'b*', alpha=0.3, label = 'LMC')\n",
    "plt.plot(cep[-i_lmc & i_fu]['logP1'], cep[-i_lmc & i_fu]['W'], 'r*', alpha=0.3, label = 'SMC')\n",
    "plt.legend(loc = 'best', numpoints = 1)\n",
    "ax2 = fig.add_subplot(212)\n",
    "plt.plot(cep[i_lmc & -i_fu]['logP1'], cep[i_lmc & -i_fu]['W'], 'b*', alpha=0.3, label = 'LMC')\n",
    "plt.plot(cep[-i_lmc & -i_fu]['logP1'], cep[-i_lmc & -i_fu]['W'], 'r*', alpha=0.3, label = 'SMC')\n",
    "plt.legend(loc = 'best', numpoints = 1)\n",
    "\n",
    "plt.show()"
   ]
  },
  {
   "cell_type": "code",
   "execution_count": 22,
   "metadata": {
    "collapsed": false
   },
   "outputs": [],
   "source": [
    "import statsmodels.formula.api as smf"
   ]
  },
  {
   "cell_type": "code",
   "execution_count": null,
   "metadata": {
    "collapsed": false
   },
   "outputs": [],
   "source": [
    "cep_gr = cep.groupby(['Cloud','Mode'])"
   ]
  },
  {
   "cell_type": "code",
   "execution_count": null,
   "metadata": {
    "collapsed": true
   },
   "outputs": [],
   "source": [
    "cep_gr.groups"
   ]
  },
  {
   "cell_type": "code",
   "execution_count": null,
   "metadata": {
    "collapsed": true
   },
   "outputs": [],
   "source": [
    "cep_gr.get_group(('LMC','F'))"
   ]
  },
  {
   "cell_type": "code",
   "execution_count": null,
   "metadata": {
    "collapsed": false
   },
   "outputs": [],
   "source": [
    "lmfit_lmc_fu = smf.ols(formula = 'W ~ logP1', data = cep_gr.get_group(('LMC','F'))).fit()"
   ]
  },
  {
   "cell_type": "code",
   "execution_count": null,
   "metadata": {
    "collapsed": true
   },
   "outputs": [],
   "source": [
    "print lmfit_lmc_fu.summary()"
   ]
  },
  {
   "cell_type": "code",
   "execution_count": null,
   "metadata": {
    "collapsed": true
   },
   "outputs": [],
   "source": [
    "# ez nem mukodik, nem értem, miért\n",
    "cep_gr.aggregate(lambda cp: smf.ols(formula = 'W ~ logP1', data = cp).fit())"
   ]
  },
  {
   "cell_type": "code",
   "execution_count": 23,
   "metadata": {
    "collapsed": false
   },
   "outputs": [],
   "source": [
    "lmfit_lmc_fu = smf.ols(formula = 'W ~ logP1', data = cep, subset = i_lmc & i_fu).fit()\n",
    "lmfit_lmc_fo = smf.ols(formula = 'W ~ logP1', data = cep, subset = i_lmc & -i_fu).fit()\n",
    "\n",
    "lmfit_smc_fu = smf.ols(formula = 'W ~ logP1', data = cep, subset = -i_lmc & i_fu).fit()\n",
    "lmfit_smc_fo = smf.ols(formula = 'W ~ logP1', data = cep, subset = -i_lmc & -i_fu).fit()"
   ]
  },
  {
   "cell_type": "code",
   "execution_count": 24,
   "metadata": {
    "collapsed": true
   },
   "outputs": [],
   "source": [
    "c_tmp = cep"
   ]
  },
  {
   "cell_type": "code",
   "execution_count": 25,
   "metadata": {
    "collapsed": true
   },
   "outputs": [],
   "source": [
    "c_tmp['resid0'] = np.zeros(c_tmp.shape[0])"
   ]
  },
  {
   "cell_type": "code",
   "execution_count": 26,
   "metadata": {
    "collapsed": false
   },
   "outputs": [],
   "source": [
    "c_tmp.loc[(i_lmc & i_fu),'resid0'] = lmfit_lmc_fu.resid\n",
    "c_tmp.loc[(-i_lmc & i_fu),'resid0'] = lmfit_smc_fu.resid\n",
    "c_tmp.loc[(i_lmc & -i_fu),'resid0'] = lmfit_lmc_fo.resid\n",
    "c_tmp.loc[(-i_lmc & -i_fu),'resid0'] = lmfit_smc_fo.resid"
   ]
  },
  {
   "cell_type": "code",
   "execution_count": 16,
   "metadata": {
    "collapsed": false,
    "scrolled": true
   },
   "outputs": [
    {
     "data": {
      "text/html": [
       "<div>\n",
       "<table border=\"1\" class=\"dataframe\">\n",
       "  <thead>\n",
       "    <tr style=\"text-align: right;\">\n",
       "      <th></th>\n",
       "      <th>name</th>\n",
       "      <th>RA0</th>\n",
       "      <th>Decl0</th>\n",
       "      <th>Mode</th>\n",
       "      <th>Cloud</th>\n",
       "      <th>W</th>\n",
       "      <th>logP1</th>\n",
       "      <th>VI</th>\n",
       "      <th>resid0</th>\n",
       "    </tr>\n",
       "  </thead>\n",
       "  <tbody>\n",
       "    <tr>\n",
       "      <th>1</th>\n",
       "      <td>OGLE-LMC-CEP-0005</td>\n",
       "      <td>4.592089</td>\n",
       "      <td>-69.73497</td>\n",
       "      <td>F</td>\n",
       "      <td>LMC</td>\n",
       "      <td>13.49540</td>\n",
       "      <td>0.749122</td>\n",
       "      <td>0.752</td>\n",
       "      <td>0.094023</td>\n",
       "    </tr>\n",
       "    <tr>\n",
       "      <th>2</th>\n",
       "      <td>OGLE-LMC-CEP-0012</td>\n",
       "      <td>4.630203</td>\n",
       "      <td>-67.21442</td>\n",
       "      <td>F</td>\n",
       "      <td>LMC</td>\n",
       "      <td>14.54210</td>\n",
       "      <td>0.424912</td>\n",
       "      <td>0.598</td>\n",
       "      <td>0.062439</td>\n",
       "    </tr>\n",
       "    <tr>\n",
       "      <th>3</th>\n",
       "      <td>OGLE-LMC-CEP-0016</td>\n",
       "      <td>4.642367</td>\n",
       "      <td>-67.64631</td>\n",
       "      <td>F</td>\n",
       "      <td>LMC</td>\n",
       "      <td>12.03300</td>\n",
       "      <td>1.021456</td>\n",
       "      <td>1.080</td>\n",
       "      <td>-0.462625</td>\n",
       "    </tr>\n",
       "    <tr>\n",
       "      <th>4</th>\n",
       "      <td>OGLE-LMC-CEP-0017</td>\n",
       "      <td>4.649119</td>\n",
       "      <td>-69.68839</td>\n",
       "      <td>F</td>\n",
       "      <td>LMC</td>\n",
       "      <td>14.34215</td>\n",
       "      <td>0.565524</td>\n",
       "      <td>0.647</td>\n",
       "      <td>0.330146</td>\n",
       "    </tr>\n",
       "    <tr>\n",
       "      <th>5</th>\n",
       "      <td>OGLE-LMC-CEP-0018</td>\n",
       "      <td>4.649717</td>\n",
       "      <td>-68.95689</td>\n",
       "      <td>F</td>\n",
       "      <td>LMC</td>\n",
       "      <td>13.93705</td>\n",
       "      <td>0.607225</td>\n",
       "      <td>0.829</td>\n",
       "      <td>0.063738</td>\n",
       "    </tr>\n",
       "    <tr>\n",
       "      <th>6</th>\n",
       "      <td>OGLE-LMC-CEP-0021</td>\n",
       "      <td>4.658600</td>\n",
       "      <td>-69.26183</td>\n",
       "      <td>F</td>\n",
       "      <td>LMC</td>\n",
       "      <td>13.53005</td>\n",
       "      <td>0.737032</td>\n",
       "      <td>0.769</td>\n",
       "      <td>0.088461</td>\n",
       "    </tr>\n",
       "    <tr>\n",
       "      <th>7</th>\n",
       "      <td>OGLE-LMC-CEP-0023</td>\n",
       "      <td>4.679856</td>\n",
       "      <td>-68.98564</td>\n",
       "      <td>F</td>\n",
       "      <td>LMC</td>\n",
       "      <td>15.21055</td>\n",
       "      <td>0.230915</td>\n",
       "      <td>0.719</td>\n",
       "      <td>0.085676</td>\n",
       "    </tr>\n",
       "    <tr>\n",
       "      <th>8</th>\n",
       "      <td>OGLE-LMC-CEP-0025</td>\n",
       "      <td>4.681769</td>\n",
       "      <td>-69.11508</td>\n",
       "      <td>F</td>\n",
       "      <td>LMC</td>\n",
       "      <td>14.08130</td>\n",
       "      <td>0.572116</td>\n",
       "      <td>0.814</td>\n",
       "      <td>0.091221</td>\n",
       "    </tr>\n",
       "    <tr>\n",
       "      <th>9</th>\n",
       "      <td>OGLE-LMC-CEP-0026</td>\n",
       "      <td>4.686733</td>\n",
       "      <td>-68.79975</td>\n",
       "      <td>F</td>\n",
       "      <td>LMC</td>\n",
       "      <td>14.51275</td>\n",
       "      <td>0.410047</td>\n",
       "      <td>0.615</td>\n",
       "      <td>-0.016350</td>\n",
       "    </tr>\n",
       "  </tbody>\n",
       "</table>\n",
       "</div>"
      ],
      "text/plain": [
       "                name       RA0     Decl0 Mode Cloud         W     logP1  \\\n",
       "1  OGLE-LMC-CEP-0005  4.592089 -69.73497    F   LMC  13.49540  0.749122   \n",
       "2  OGLE-LMC-CEP-0012  4.630203 -67.21442    F   LMC  14.54210  0.424912   \n",
       "3  OGLE-LMC-CEP-0016  4.642367 -67.64631    F   LMC  12.03300  1.021456   \n",
       "4  OGLE-LMC-CEP-0017  4.649119 -69.68839    F   LMC  14.34215  0.565524   \n",
       "5  OGLE-LMC-CEP-0018  4.649717 -68.95689    F   LMC  13.93705  0.607225   \n",
       "6  OGLE-LMC-CEP-0021  4.658600 -69.26183    F   LMC  13.53005  0.737032   \n",
       "7  OGLE-LMC-CEP-0023  4.679856 -68.98564    F   LMC  15.21055  0.230915   \n",
       "8  OGLE-LMC-CEP-0025  4.681769 -69.11508    F   LMC  14.08130  0.572116   \n",
       "9  OGLE-LMC-CEP-0026  4.686733 -68.79975    F   LMC  14.51275  0.410047   \n",
       "\n",
       "      VI    resid0  \n",
       "1  0.752  0.094023  \n",
       "2  0.598  0.062439  \n",
       "3  1.080 -0.462625  \n",
       "4  0.647  0.330146  \n",
       "5  0.829  0.063738  \n",
       "6  0.769  0.088461  \n",
       "7  0.719  0.085676  \n",
       "8  0.814  0.091221  \n",
       "9  0.615 -0.016350  "
      ]
     },
     "execution_count": 16,
     "metadata": {},
     "output_type": "execute_result"
    }
   ],
   "source": [
    "c_tmp[1:10]"
   ]
  },
  {
   "cell_type": "code",
   "execution_count": 7,
   "metadata": {
    "collapsed": false
   },
   "outputs": [
    {
     "data": {
      "text/plain": [
       "Intercept    15.892871\n",
       "logP1        -3.325885\n",
       "dtype: float64"
      ]
     },
     "execution_count": 7,
     "metadata": {},
     "output_type": "execute_result"
    }
   ],
   "source": [
    "lmfit_lmc_fu.params"
   ]
  },
  {
   "cell_type": "code",
   "execution_count": 27,
   "metadata": {
    "collapsed": false
   },
   "outputs": [],
   "source": [
    "# dfmi.loc[:,('one','second')] = value\n",
    "c_tmp = pd.DataFrame(columns = ['resid0','fitted0'], dtype = float)\n",
    "c_tmp2 = pd.DataFrame.add(cep, other = c_tmp, axis = \"columns\", level = 0)\n",
    "c_tmp2[['name','RA0','Decl0','Mode','Cloud','logP1','VI','W']] = cep[['name','RA0','Decl0','Mode','Cloud','logP1','VI','W']]\n",
    "c_tmp2.loc[(i_lmc & i_fu),'resid0'] = lmfit_lmc_fu.resid\n",
    "c_tmp2.loc[(-i_lmc & i_fu),'resid0'] = lmfit_smc_fu.resid\n",
    "c_tmp2.loc[(i_lmc & -i_fu),'resid0'] = lmfit_lmc_fo.resid\n",
    "c_tmp2.loc[(-i_lmc & -i_fu),'resid0'] = lmfit_smc_fo.resid\n",
    "c_tmp2.loc[(i_lmc & i_fu),'fitted0'] = lmfit_lmc_fu.fittedvalues\n",
    "c_tmp2.loc[(-i_lmc & i_fu),'fitted0'] = lmfit_smc_fu.fittedvalues\n",
    "c_tmp2.loc[(i_lmc & -i_fu),'fitted0'] = lmfit_lmc_fo.fittedvalues\n",
    "c_tmp2.loc[(-i_lmc & -i_fu),'fitted0'] = lmfit_smc_fo.fittedvalues"
   ]
  },
  {
   "cell_type": "code",
   "execution_count": 28,
   "metadata": {
    "collapsed": false
   },
   "outputs": [
    {
     "data": {
      "text/html": [
       "<div>\n",
       "<table border=\"1\" class=\"dataframe\">\n",
       "  <thead>\n",
       "    <tr style=\"text-align: right;\">\n",
       "      <th></th>\n",
       "      <th>Cloud</th>\n",
       "      <th>Decl0</th>\n",
       "      <th>Mode</th>\n",
       "      <th>RA0</th>\n",
       "      <th>VI</th>\n",
       "      <th>W</th>\n",
       "      <th>fitted0</th>\n",
       "      <th>logP1</th>\n",
       "      <th>name</th>\n",
       "      <th>resid0</th>\n",
       "    </tr>\n",
       "  </thead>\n",
       "  <tbody>\n",
       "    <tr>\n",
       "      <th>0</th>\n",
       "      <td>LMC</td>\n",
       "      <td>-69.81933</td>\n",
       "      <td>F</td>\n",
       "      <td>4.529733</td>\n",
       "      <td>0.740</td>\n",
       "      <td>14.52500</td>\n",
       "      <td>14.250240</td>\n",
       "      <td>0.493893</td>\n",
       "      <td>OGLE-LMC-CEP-0002</td>\n",
       "      <td>0.274760</td>\n",
       "    </tr>\n",
       "    <tr>\n",
       "      <th>1</th>\n",
       "      <td>LMC</td>\n",
       "      <td>-69.73497</td>\n",
       "      <td>F</td>\n",
       "      <td>4.592089</td>\n",
       "      <td>0.752</td>\n",
       "      <td>13.49540</td>\n",
       "      <td>13.401377</td>\n",
       "      <td>0.749122</td>\n",
       "      <td>OGLE-LMC-CEP-0005</td>\n",
       "      <td>0.094023</td>\n",
       "    </tr>\n",
       "    <tr>\n",
       "      <th>2</th>\n",
       "      <td>LMC</td>\n",
       "      <td>-67.21442</td>\n",
       "      <td>F</td>\n",
       "      <td>4.630203</td>\n",
       "      <td>0.598</td>\n",
       "      <td>14.54210</td>\n",
       "      <td>14.479661</td>\n",
       "      <td>0.424912</td>\n",
       "      <td>OGLE-LMC-CEP-0012</td>\n",
       "      <td>0.062439</td>\n",
       "    </tr>\n",
       "    <tr>\n",
       "      <th>3</th>\n",
       "      <td>LMC</td>\n",
       "      <td>-67.64631</td>\n",
       "      <td>F</td>\n",
       "      <td>4.642367</td>\n",
       "      <td>1.080</td>\n",
       "      <td>12.03300</td>\n",
       "      <td>12.495625</td>\n",
       "      <td>1.021456</td>\n",
       "      <td>OGLE-LMC-CEP-0016</td>\n",
       "      <td>-0.462625</td>\n",
       "    </tr>\n",
       "    <tr>\n",
       "      <th>4</th>\n",
       "      <td>LMC</td>\n",
       "      <td>-69.68839</td>\n",
       "      <td>F</td>\n",
       "      <td>4.649119</td>\n",
       "      <td>0.647</td>\n",
       "      <td>14.34215</td>\n",
       "      <td>14.012004</td>\n",
       "      <td>0.565524</td>\n",
       "      <td>OGLE-LMC-CEP-0017</td>\n",
       "      <td>0.330146</td>\n",
       "    </tr>\n",
       "    <tr>\n",
       "      <th>5</th>\n",
       "      <td>LMC</td>\n",
       "      <td>-68.95689</td>\n",
       "      <td>F</td>\n",
       "      <td>4.649717</td>\n",
       "      <td>0.829</td>\n",
       "      <td>13.93705</td>\n",
       "      <td>13.873312</td>\n",
       "      <td>0.607225</td>\n",
       "      <td>OGLE-LMC-CEP-0018</td>\n",
       "      <td>0.063738</td>\n",
       "    </tr>\n",
       "    <tr>\n",
       "      <th>6</th>\n",
       "      <td>LMC</td>\n",
       "      <td>-69.26183</td>\n",
       "      <td>F</td>\n",
       "      <td>4.658600</td>\n",
       "      <td>0.769</td>\n",
       "      <td>13.53005</td>\n",
       "      <td>13.441589</td>\n",
       "      <td>0.737032</td>\n",
       "      <td>OGLE-LMC-CEP-0021</td>\n",
       "      <td>0.088461</td>\n",
       "    </tr>\n",
       "    <tr>\n",
       "      <th>7</th>\n",
       "      <td>LMC</td>\n",
       "      <td>-68.98564</td>\n",
       "      <td>F</td>\n",
       "      <td>4.679856</td>\n",
       "      <td>0.719</td>\n",
       "      <td>15.21055</td>\n",
       "      <td>15.124874</td>\n",
       "      <td>0.230915</td>\n",
       "      <td>OGLE-LMC-CEP-0023</td>\n",
       "      <td>0.085676</td>\n",
       "    </tr>\n",
       "    <tr>\n",
       "      <th>8</th>\n",
       "      <td>LMC</td>\n",
       "      <td>-69.11508</td>\n",
       "      <td>F</td>\n",
       "      <td>4.681769</td>\n",
       "      <td>0.814</td>\n",
       "      <td>14.08130</td>\n",
       "      <td>13.990079</td>\n",
       "      <td>0.572116</td>\n",
       "      <td>OGLE-LMC-CEP-0025</td>\n",
       "      <td>0.091221</td>\n",
       "    </tr>\n",
       "    <tr>\n",
       "      <th>9</th>\n",
       "      <td>LMC</td>\n",
       "      <td>-68.79975</td>\n",
       "      <td>F</td>\n",
       "      <td>4.686733</td>\n",
       "      <td>0.615</td>\n",
       "      <td>14.51275</td>\n",
       "      <td>14.529100</td>\n",
       "      <td>0.410047</td>\n",
       "      <td>OGLE-LMC-CEP-0026</td>\n",
       "      <td>-0.016350</td>\n",
       "    </tr>\n",
       "  </tbody>\n",
       "</table>\n",
       "</div>"
      ],
      "text/plain": [
       "  Cloud     Decl0 Mode       RA0     VI         W    fitted0     logP1  \\\n",
       "0   LMC -69.81933    F  4.529733  0.740  14.52500  14.250240  0.493893   \n",
       "1   LMC -69.73497    F  4.592089  0.752  13.49540  13.401377  0.749122   \n",
       "2   LMC -67.21442    F  4.630203  0.598  14.54210  14.479661  0.424912   \n",
       "3   LMC -67.64631    F  4.642367  1.080  12.03300  12.495625  1.021456   \n",
       "4   LMC -69.68839    F  4.649119  0.647  14.34215  14.012004  0.565524   \n",
       "5   LMC -68.95689    F  4.649717  0.829  13.93705  13.873312  0.607225   \n",
       "6   LMC -69.26183    F  4.658600  0.769  13.53005  13.441589  0.737032   \n",
       "7   LMC -68.98564    F  4.679856  0.719  15.21055  15.124874  0.230915   \n",
       "8   LMC -69.11508    F  4.681769  0.814  14.08130  13.990079  0.572116   \n",
       "9   LMC -68.79975    F  4.686733  0.615  14.51275  14.529100  0.410047   \n",
       "\n",
       "                name    resid0  \n",
       "0  OGLE-LMC-CEP-0002  0.274760  \n",
       "1  OGLE-LMC-CEP-0005  0.094023  \n",
       "2  OGLE-LMC-CEP-0012  0.062439  \n",
       "3  OGLE-LMC-CEP-0016 -0.462625  \n",
       "4  OGLE-LMC-CEP-0017  0.330146  \n",
       "5  OGLE-LMC-CEP-0018  0.063738  \n",
       "6  OGLE-LMC-CEP-0021  0.088461  \n",
       "7  OGLE-LMC-CEP-0023  0.085676  \n",
       "8  OGLE-LMC-CEP-0025  0.091221  \n",
       "9  OGLE-LMC-CEP-0026 -0.016350  "
      ]
     },
     "execution_count": 28,
     "metadata": {},
     "output_type": "execute_result"
    }
   ],
   "source": [
    "c_tmp2.iloc[0:10]"
   ]
  },
  {
   "cell_type": "code",
   "execution_count": null,
   "metadata": {
    "collapsed": true
   },
   "outputs": [],
   "source": [
    "logp_tmp = np.linspace(cep['logP1'].min(), cep['logP1'].max(), 500)\n",
    "\n",
    "fig = plt.figure(4)\n",
    "ax1 = fig.add_subplot(211)\n",
    "plt.plot(cep[i_lmc & i_fu]['logP1'], cep[i_lmc & i_fu]['W'], 'c*', alpha=0.2, label = 'LMC')\n",
    "plt.plot(cep[-i_lmc & i_fu]['logP1'], cep[-i_lmc & i_fu]['W'], 'r*', alpha=0.2, label = 'SMC')\n",
    "plt.plot(logp_tmp, lmfit_lmc_fu.params['Intercept'] + logp_tmp * lmfit_lmc_fu.params['logP1'], 'blue', lw = 1)\n",
    "plt.plot(logp_tmp, lmfit_smc_fu.params['Intercept'] + logp_tmp * lmfit_smc_fu.params['logP1'], 'brown', lw = 1)\n",
    "plt.legend(loc = 'best', numpoints = 1)\n",
    "ax2 = fig.add_subplot(212)\n",
    "plt.plot(cep[i_lmc & -i_fu]['logP1'], cep[i_lmc & -i_fu]['W'], 'c*', alpha=0.2, label = 'LMC')\n",
    "plt.plot(cep[-i_lmc & -i_fu]['logP1'], cep[-i_lmc & -i_fu]['W'], 'r*', alpha=0.2, label = 'SMC')\n",
    "plt.legend(loc = 'best', numpoints = 1)\n",
    "plt.plot(logp_tmp, lmfit_lmc_fo.params['Intercept'] + logp_tmp * lmfit_lmc_fo.params['logP1'], 'blue', lw = 1)\n",
    "plt.plot(logp_tmp, lmfit_smc_fo.params['Intercept'] + logp_tmp * lmfit_smc_fo.params['logP1'], 'brown', lw = 1)\n",
    "\n",
    "plt.show()"
   ]
  },
  {
   "cell_type": "code",
   "execution_count": null,
   "metadata": {
    "collapsed": false
   },
   "outputs": [],
   "source": [
    "mn, mx = sorted(c_tmp2['resid0'])[::len(c_tmp2['resid0'])-1]\n",
    "\n",
    "fig = plt.figure(1)\n",
    "\n",
    "ax1 = fig.add_subplot(221)\n",
    "sm.qqplot(c_tmp2[i_lmc & i_fu]['resid0'], line = 's', ax = ax1)\n",
    "plt.title(\"LMC FU\")\n",
    "plt.ylim(mn - 0.05*(mx-mn), mx + 0.05*(mx-mn))\n",
    "ax2 = fig.add_subplot(222)\n",
    "sm.qqplot(c_tmp2[-i_lmc & i_fu]['resid0'], line = 's', ax = ax2)\n",
    "plt.title(\"SMC FU\")\n",
    "plt.ylim(mn - 0.05*(mx-mn), mx + 0.05*(mx-mn))\n",
    "ax3 = fig.add_subplot(223)\n",
    "sm.qqplot(c_tmp2[i_lmc & -i_fu]['resid0'], line = 's', ax = ax3)\n",
    "plt.title(\"LMC FO\")\n",
    "plt.ylim(mn - 0.05*(mx-mn), mx + 0.05*(mx-mn))\n",
    "ax4 = fig.add_subplot(224)\n",
    "sm.qqplot(c_tmp2[-i_lmc & -i_fu]['resid0'], line = 's', ax = ax4)\n",
    "plt.title(\"SMC FO\")\n",
    "plt.ylim(mn - 0.05*(mx-mn), mx + 0.05*(mx-mn))\n",
    "\n",
    "plt.show()"
   ]
  },
  {
   "cell_type": "markdown",
   "metadata": {},
   "source": [
    "Map, coloured according to the sign of the residuals:"
   ]
  },
  {
   "cell_type": "code",
   "execution_count": null,
   "metadata": {
    "collapsed": false
   },
   "outputs": [],
   "source": [
    "i_posresid = (c_tmp2['resid0'] > 0)\n",
    "    \n",
    "fig = plt.figure(1)\n",
    "\n",
    "fig.add_subplot(221)\n",
    "plt.plot(c_tmp2[-i_lmc & i_fu & i_posresid]['RA0'], c_tmp2[-i_lmc & i_fu & i_posresid]['Decl0'], 'bo', alpha=0.2)\n",
    "plt.plot(c_tmp2[-i_lmc & i_fu & -i_posresid]['RA0'], c_tmp2[-i_lmc & i_fu & -i_posresid]['Decl0'], 'yo', alpha=0.2)\n",
    "plt.title('SMC FU')\n",
    "\n",
    "fig.add_subplot(222)\n",
    "plt.plot(c_tmp2[i_lmc & i_fu & i_posresid]['RA0'], c_tmp2[i_lmc & i_fu & i_posresid]['Decl0'], 'bo', alpha=0.2)\n",
    "plt.plot(c_tmp2[i_lmc & i_fu & -i_posresid]['RA0'], c_tmp2[i_lmc & i_fu & -i_posresid]['Decl0'], 'yo', alpha=0.2)\n",
    "plt.title('LMC FU')\n",
    "\n",
    "fig.add_subplot(223)\n",
    "plt.plot(c_tmp2[-i_lmc & -i_fu & i_posresid]['RA0'], c_tmp2[-i_lmc & -i_fu & i_posresid]['Decl0'], 'bo', alpha=0.2)\n",
    "plt.plot(c_tmp2[-i_lmc & -i_fu & -i_posresid]['RA0'], c_tmp2[-i_lmc & -i_fu & -i_posresid]['Decl0'], 'yo', alpha=0.2)\n",
    "plt.title('SMC FU')\n",
    "\n",
    "fig.add_subplot(224)\n",
    "plt.plot(c_tmp2[i_lmc & -i_fu & i_posresid]['RA0'], c_tmp2[i_lmc & -i_fu & i_posresid]['Decl0'], 'bo', alpha=0.2)\n",
    "plt.plot(c_tmp2[i_lmc & -i_fu & -i_posresid]['RA0'], c_tmp2[i_lmc & -i_fu & -i_posresid]['Decl0'], 'yo', alpha=0.2)\n",
    "plt.title('LMC FU')\n",
    "\n",
    "plt.show()"
   ]
  },
  {
   "cell_type": "markdown",
   "metadata": {},
   "source": [
    "Residuals against fitted value"
   ]
  },
  {
   "cell_type": "code",
   "execution_count": null,
   "metadata": {
    "collapsed": false
   },
   "outputs": [],
   "source": [
    "fig = plt.figure(1)\n",
    "\n",
    "fig.add_subplot(221)\n",
    "plt.plot(c_tmp2[-i_lmc & i_fu]['fitted0'], c_tmp2[-i_lmc & i_fu]['resid0'], 'g*', alpha=0.2)\n",
    "plt.hlines(0, xmin = c_tmp2[-i_lmc & i_fu]['fitted0'].min(), xmax = c_tmp2[-i_lmc & i_fu]['fitted0'].max(), lw = 2)\n",
    "plt.title('SMC FU')\n",
    "\n",
    "fig.add_subplot(222)\n",
    "plt.plot(c_tmp2[i_lmc & i_fu]['fitted0'], c_tmp2[i_lmc & i_fu]['resid0'], 'g*', alpha=0.2)\n",
    "plt.hlines(0, xmin = c_tmp2[-i_lmc & i_fu]['fitted0'].min(), xmax = c_tmp2[-i_lmc & i_fu]['fitted0'].max(), lw = 2)\n",
    "plt.title('LMC FU')\n",
    "\n",
    "fig.add_subplot(223)\n",
    "plt.plot(c_tmp2[-i_lmc & -i_fu]['fitted0'], c_tmp2[-i_lmc & -i_fu]['resid0'], 'g*', alpha=0.2)\n",
    "plt.hlines(0, xmin = c_tmp2[-i_lmc & -i_fu]['fitted0'].min(), xmax = c_tmp2[-i_lmc & -i_fu]['fitted0'].max(), lw = 2)\n",
    "plt.title('SMC FO')\n",
    "\n",
    "fig.add_subplot(224)\n",
    "plt.plot(c_tmp2[i_lmc & -i_fu]['fitted0'], c_tmp2[i_lmc & -i_fu]['resid0'], 'g*', alpha=0.2)\n",
    "plt.hlines(0, xmin = c_tmp2[i_lmc & -i_fu]['fitted0'].min(), xmax = c_tmp2[i_lmc & -i_fu]['fitted0'].max(), lw = 2)\n",
    "plt.title('LMC FO')\n",
    "\n",
    "plt.show()\n"
   ]
  },
  {
   "cell_type": "markdown",
   "metadata": {},
   "source": [
    "Residuals against covariate"
   ]
  },
  {
   "cell_type": "code",
   "execution_count": null,
   "metadata": {
    "collapsed": true
   },
   "outputs": [],
   "source": [
    "fig = plt.figure(1)\n",
    "\n",
    "fig.add_subplot(221)\n",
    "plt.plot(c_tmp2[-i_lmc & i_fu]['logP1'], c_tmp2[-i_lmc & i_fu]['resid0'], 'g*', alpha=0.2)\n",
    "plt.hlines(0, xmin = c_tmp2[-i_lmc & i_fu]['logP1'].min(), xmax = c_tmp2[-i_lmc & i_fu]['logP1'].max(), lw = 2)\n",
    "plt.title('SMC FU')\n",
    "\n",
    "fig.add_subplot(222)\n",
    "plt.plot(c_tmp2[i_lmc & i_fu]['logP1'], c_tmp2[i_lmc & i_fu]['resid0'], 'g*', alpha=0.2)\n",
    "plt.hlines(0, xmin = c_tmp2[-i_lmc & i_fu]['logP1'].min(), xmax = c_tmp2[-i_lmc & i_fu]['logP1'].max(), lw = 2)\n",
    "plt.title('LMC FU')\n",
    "\n",
    "fig.add_subplot(223)\n",
    "plt.plot(c_tmp2[-i_lmc & -i_fu]['logP1'], c_tmp2[-i_lmc & -i_fu]['resid0'], 'g*', alpha=0.2)\n",
    "plt.hlines(0, xmin = c_tmp2[-i_lmc & -i_fu]['logP1'].min(), xmax = c_tmp2[-i_lmc & -i_fu]['logP1'].max(), lw = 2)\n",
    "plt.title('SMC FO')\n",
    "\n",
    "fig.add_subplot(224)\n",
    "plt.plot(c_tmp2[i_lmc & -i_fu]['logP1'], c_tmp2[i_lmc & -i_fu]['resid0'], 'g*', alpha=0.2)\n",
    "plt.hlines(0, xmin = c_tmp2[i_lmc & -i_fu]['logP1'].min(), xmax = c_tmp2[i_lmc & -i_fu]['logP1'].max(), lw = 2)\n",
    "plt.title('LMC FO')\n",
    "\n",
    "plt.show()\n",
    "\n"
   ]
  },
  {
   "cell_type": "markdown",
   "metadata": {},
   "source": [
    "Residuals vs VI"
   ]
  },
  {
   "cell_type": "code",
   "execution_count": null,
   "metadata": {
    "collapsed": true
   },
   "outputs": [],
   "source": [
    "fig = plt.figure(1)\n",
    "\n",
    "fig.add_subplot(221)\n",
    "plt.plot(c_tmp2[-i_lmc & i_fu]['VI'], c_tmp2[-i_lmc & i_fu]['resid0'], 'g*', alpha=0.2)\n",
    "plt.hlines(0, xmin = c_tmp2[-i_lmc & i_fu]['VI'].min(), xmax = c_tmp2[-i_lmc & i_fu]['VI'].max(), lw = 2)\n",
    "plt.title('SMC FU')\n",
    "\n",
    "fig.add_subplot(222)\n",
    "plt.plot(c_tmp2[i_lmc & i_fu]['VI'], c_tmp2[i_lmc & i_fu]['resid0'], 'g*', alpha=0.2)\n",
    "plt.hlines(0, xmin = c_tmp2[-i_lmc & i_fu]['VI'].min(), xmax = c_tmp2[-i_lmc & i_fu]['VI'].max(), lw = 2)\n",
    "plt.title('LMC FU')\n",
    "\n",
    "fig.add_subplot(223)\n",
    "plt.plot(c_tmp2[-i_lmc & -i_fu]['VI'], c_tmp2[-i_lmc & -i_fu]['resid0'], 'g*', alpha=0.2)\n",
    "plt.hlines(0, xmin = c_tmp2[-i_lmc & -i_fu]['VI'].min(), xmax = c_tmp2[-i_lmc & -i_fu]['VI'].max(), lw = 2)\n",
    "plt.title('SMC FO')\n",
    "\n",
    "fig.add_subplot(224)\n",
    "plt.plot(c_tmp2[i_lmc & -i_fu]['VI'], c_tmp2[i_lmc & -i_fu]['resid0'], 'g*', alpha=0.2)\n",
    "plt.hlines(0, xmin = c_tmp2[i_lmc & -i_fu]['VI'].min(), xmax = c_tmp2[i_lmc & -i_fu]['VI'].max(), lw = 2)\n",
    "plt.title('LMC FO')\n",
    "\n",
    "plt.show()"
   ]
  },
  {
   "cell_type": "markdown",
   "metadata": {},
   "source": [
    "Careful: VI versus logP1"
   ]
  },
  {
   "cell_type": "code",
   "execution_count": null,
   "metadata": {
    "collapsed": true
   },
   "outputs": [],
   "source": [
    "fig = plt.figure(1)\n",
    "\n",
    "fig.add_subplot(221)\n",
    "plt.plot(c_tmp2[-i_lmc & i_fu]['logP1'], c_tmp2[-i_lmc & i_fu]['VI'], 'g*', alpha=0.2)\n",
    "plt.title('SMC FU')\n",
    "\n",
    "fig.add_subplot(222)\n",
    "plt.plot(c_tmp2[i_lmc & i_fu]['logP1'], c_tmp2[i_lmc & i_fu]['VI'], 'g*', alpha=0.2)\n",
    "plt.title('LMC FU')\n",
    "\n",
    "fig.add_subplot(223)\n",
    "plt.plot(c_tmp2[-i_lmc & -i_fu]['logP1'], c_tmp2[-i_lmc & -i_fu]['VI'], 'g*', alpha=0.2)\n",
    "plt.title('SMC FO')\n",
    "\n",
    "fig.add_subplot(224)\n",
    "plt.plot(c_tmp2[i_lmc & -i_fu]['logP1'], c_tmp2[i_lmc & -i_fu]['VI'], 'g*', alpha=0.2)\n",
    "plt.title('LMC FO')\n",
    "\n",
    "plt.show()"
   ]
  },
  {
   "cell_type": "code",
   "execution_count": 29,
   "metadata": {
    "collapsed": true
   },
   "outputs": [],
   "source": [
    "vi_lmfit_lmc_fu = smf.ols(formula = 'VI ~ logP1', data = cep, subset = i_lmc & i_fu).fit()\n",
    "vi_lmfit_lmc_fo = smf.ols(formula = 'VI ~ logP1', data = cep, subset = i_lmc & -i_fu).fit()\n",
    "\n",
    "vi_lmfit_smc_fu = smf.ols(formula = 'VI ~ logP1', data = cep, subset = -i_lmc & i_fu).fit()\n",
    "vi_lmfit_smc_fo = smf.ols(formula = 'VI ~ logP1', data = cep, subset = -i_lmc & -i_fu).fit()"
   ]
  },
  {
   "cell_type": "code",
   "execution_count": 31,
   "metadata": {
    "collapsed": false
   },
   "outputs": [
    {
     "data": {
      "text/html": [
       "<table class=\"simpletable\">\n",
       "<caption>OLS Regression Results</caption>\n",
       "<tr>\n",
       "  <th>Dep. Variable:</th>           <td>VI</td>        <th>  R-squared:         </th> <td>   0.122</td>\n",
       "</tr>\n",
       "<tr>\n",
       "  <th>Model:</th>                   <td>OLS</td>       <th>  Adj. R-squared:    </th> <td>   0.121</td>\n",
       "</tr>\n",
       "<tr>\n",
       "  <th>Method:</th>             <td>Least Squares</td>  <th>  F-statistic:       </th> <td>   226.5</td>\n",
       "</tr>\n",
       "<tr>\n",
       "  <th>Date:</th>             <td>Mon, 01 Aug 2016</td> <th>  Prob (F-statistic):</th> <td>4.91e-48</td>\n",
       "</tr>\n",
       "<tr>\n",
       "  <th>Time:</th>                 <td>18:00:49</td>     <th>  Log-Likelihood:    </th> <td>  1500.5</td>\n",
       "</tr>\n",
       "<tr>\n",
       "  <th>No. Observations:</th>      <td>  1632</td>      <th>  AIC:               </th> <td>  -2997.</td>\n",
       "</tr>\n",
       "<tr>\n",
       "  <th>Df Residuals:</th>          <td>  1630</td>      <th>  BIC:               </th> <td>  -2986.</td>\n",
       "</tr>\n",
       "<tr>\n",
       "  <th>Df Model:</th>              <td>     1</td>      <th>                     </th>     <td> </td>   \n",
       "</tr>\n",
       "<tr>\n",
       "  <th>Covariance Type:</th>      <td>nonrobust</td>    <th>                     </th>     <td> </td>   \n",
       "</tr>\n",
       "</table>\n",
       "<table class=\"simpletable\">\n",
       "<tr>\n",
       "      <td></td>         <th>coef</th>     <th>std err</th>      <th>t</th>      <th>P>|t|</th> <th>[95.0% Conf. Int.]</th> \n",
       "</tr>\n",
       "<tr>\n",
       "  <th>Intercept</th> <td>    0.5593</td> <td>    0.003</td> <td>  199.634</td> <td> 0.000</td> <td>    0.554     0.565</td>\n",
       "</tr>\n",
       "<tr>\n",
       "  <th>logP1</th>     <td>    0.1712</td> <td>    0.011</td> <td>   15.051</td> <td> 0.000</td> <td>    0.149     0.194</td>\n",
       "</tr>\n",
       "</table>\n",
       "<table class=\"simpletable\">\n",
       "<tr>\n",
       "  <th>Omnibus:</th>       <td>1312.692</td> <th>  Durbin-Watson:     </th> <td>   1.892</td> \n",
       "</tr>\n",
       "<tr>\n",
       "  <th>Prob(Omnibus):</th>  <td> 0.000</td>  <th>  Jarque-Bera (JB):  </th> <td>67973.071</td>\n",
       "</tr>\n",
       "<tr>\n",
       "  <th>Skew:</th>           <td> 3.338</td>  <th>  Prob(JB):          </th> <td>    0.00</td> \n",
       "</tr>\n",
       "<tr>\n",
       "  <th>Kurtosis:</th>       <td>33.904</td>  <th>  Cond. No.          </th> <td>    4.84</td> \n",
       "</tr>\n",
       "</table>"
      ],
      "text/plain": [
       "<class 'statsmodels.iolib.summary.Summary'>\n",
       "\"\"\"\n",
       "                            OLS Regression Results                            \n",
       "==============================================================================\n",
       "Dep. Variable:                     VI   R-squared:                       0.122\n",
       "Model:                            OLS   Adj. R-squared:                  0.121\n",
       "Method:                 Least Squares   F-statistic:                     226.5\n",
       "Date:                Mon, 01 Aug 2016   Prob (F-statistic):           4.91e-48\n",
       "Time:                        18:00:49   Log-Likelihood:                 1500.5\n",
       "No. Observations:                1632   AIC:                            -2997.\n",
       "Df Residuals:                    1630   BIC:                            -2986.\n",
       "Df Model:                           1                                         \n",
       "Covariance Type:            nonrobust                                         \n",
       "==============================================================================\n",
       "                 coef    std err          t      P>|t|      [95.0% Conf. Int.]\n",
       "------------------------------------------------------------------------------\n",
       "Intercept      0.5593      0.003    199.634      0.000         0.554     0.565\n",
       "logP1          0.1712      0.011     15.051      0.000         0.149     0.194\n",
       "==============================================================================\n",
       "Omnibus:                     1312.692   Durbin-Watson:                   1.892\n",
       "Prob(Omnibus):                  0.000   Jarque-Bera (JB):            67973.071\n",
       "Skew:                           3.338   Prob(JB):                         0.00\n",
       "Kurtosis:                      33.904   Cond. No.                         4.84\n",
       "==============================================================================\n",
       "\n",
       "Warnings:\n",
       "[1] Standard Errors assume that the covariance matrix of the errors is correctly specified.\n",
       "\"\"\""
      ]
     },
     "execution_count": 31,
     "metadata": {},
     "output_type": "execute_result"
    }
   ],
   "source": [
    "vi_lmfit_smc_fo.summary()\n"
   ]
  },
  {
   "cell_type": "code",
   "execution_count": 32,
   "metadata": {
    "collapsed": false
   },
   "outputs": [],
   "source": [
    "c_tmp = pd.DataFrame(columns = ['resid_vi'], dtype = float)\n",
    "c_tmp3 = pd.DataFrame.add(c_tmp2, other = c_tmp, axis = \"columns\", level = 0)\n",
    "c_tmp3[['name','RA0','Decl0','Mode','Cloud','logP1','VI','W','fitted0','resid0']] = c_tmp2[['name','RA0','Decl0','Mode','Cloud','logP1','VI','W','fitted0','resid0']]\n",
    "c_tmp3.loc[(i_lmc & i_fu),'resid_vi'] = vi_lmfit_lmc_fu.resid\n",
    "c_tmp3.loc[(-i_lmc & i_fu),'resid_vi'] = vi_lmfit_smc_fu.resid\n",
    "c_tmp3.loc[(i_lmc & -i_fu),'resid_vi'] = vi_lmfit_lmc_fo.resid\n",
    "c_tmp3.loc[(-i_lmc & -i_fu),'resid_vi'] = vi_lmfit_smc_fo.resid"
   ]
  },
  {
   "cell_type": "code",
   "execution_count": 33,
   "metadata": {
    "collapsed": false
   },
   "outputs": [
    {
     "data": {
      "text/html": [
       "<div>\n",
       "<table border=\"1\" class=\"dataframe\">\n",
       "  <thead>\n",
       "    <tr style=\"text-align: right;\">\n",
       "      <th></th>\n",
       "      <th>Cloud</th>\n",
       "      <th>Decl0</th>\n",
       "      <th>Mode</th>\n",
       "      <th>RA0</th>\n",
       "      <th>VI</th>\n",
       "      <th>W</th>\n",
       "      <th>fitted0</th>\n",
       "      <th>logP1</th>\n",
       "      <th>name</th>\n",
       "      <th>resid0</th>\n",
       "      <th>resid_vi</th>\n",
       "    </tr>\n",
       "  </thead>\n",
       "  <tbody>\n",
       "    <tr>\n",
       "      <th>0</th>\n",
       "      <td>LMC</td>\n",
       "      <td>-69.81933</td>\n",
       "      <td>F</td>\n",
       "      <td>4.529733</td>\n",
       "      <td>0.740</td>\n",
       "      <td>14.52500</td>\n",
       "      <td>14.250240</td>\n",
       "      <td>0.493893</td>\n",
       "      <td>OGLE-LMC-CEP-0002</td>\n",
       "      <td>0.274760</td>\n",
       "      <td>-0.026589</td>\n",
       "    </tr>\n",
       "    <tr>\n",
       "      <th>1</th>\n",
       "      <td>LMC</td>\n",
       "      <td>-69.73497</td>\n",
       "      <td>F</td>\n",
       "      <td>4.592089</td>\n",
       "      <td>0.752</td>\n",
       "      <td>13.49540</td>\n",
       "      <td>13.401377</td>\n",
       "      <td>0.749122</td>\n",
       "      <td>OGLE-LMC-CEP-0005</td>\n",
       "      <td>0.094023</td>\n",
       "      <td>-0.073301</td>\n",
       "    </tr>\n",
       "    <tr>\n",
       "      <th>2</th>\n",
       "      <td>LMC</td>\n",
       "      <td>-67.21442</td>\n",
       "      <td>F</td>\n",
       "      <td>4.630203</td>\n",
       "      <td>0.598</td>\n",
       "      <td>14.54210</td>\n",
       "      <td>14.479661</td>\n",
       "      <td>0.424912</td>\n",
       "      <td>OGLE-LMC-CEP-0012</td>\n",
       "      <td>0.062439</td>\n",
       "      <td>-0.152721</td>\n",
       "    </tr>\n",
       "    <tr>\n",
       "      <th>3</th>\n",
       "      <td>LMC</td>\n",
       "      <td>-67.64631</td>\n",
       "      <td>F</td>\n",
       "      <td>4.642367</td>\n",
       "      <td>1.080</td>\n",
       "      <td>12.03300</td>\n",
       "      <td>12.495625</td>\n",
       "      <td>1.021456</td>\n",
       "      <td>OGLE-LMC-CEP-0016</td>\n",
       "      <td>-0.462625</td>\n",
       "      <td>0.192053</td>\n",
       "    </tr>\n",
       "    <tr>\n",
       "      <th>4</th>\n",
       "      <td>LMC</td>\n",
       "      <td>-69.68839</td>\n",
       "      <td>F</td>\n",
       "      <td>4.649119</td>\n",
       "      <td>0.647</td>\n",
       "      <td>14.34215</td>\n",
       "      <td>14.012004</td>\n",
       "      <td>0.565524</td>\n",
       "      <td>OGLE-LMC-CEP-0017</td>\n",
       "      <td>0.330146</td>\n",
       "      <td>-0.136067</td>\n",
       "    </tr>\n",
       "    <tr>\n",
       "      <th>5</th>\n",
       "      <td>LMC</td>\n",
       "      <td>-68.95689</td>\n",
       "      <td>F</td>\n",
       "      <td>4.649717</td>\n",
       "      <td>0.829</td>\n",
       "      <td>13.93705</td>\n",
       "      <td>13.873312</td>\n",
       "      <td>0.607225</td>\n",
       "      <td>OGLE-LMC-CEP-0018</td>\n",
       "      <td>0.063738</td>\n",
       "      <td>0.036341</td>\n",
       "    </tr>\n",
       "    <tr>\n",
       "      <th>6</th>\n",
       "      <td>LMC</td>\n",
       "      <td>-69.26183</td>\n",
       "      <td>F</td>\n",
       "      <td>4.658600</td>\n",
       "      <td>0.769</td>\n",
       "      <td>13.53005</td>\n",
       "      <td>13.441589</td>\n",
       "      <td>0.737032</td>\n",
       "      <td>OGLE-LMC-CEP-0021</td>\n",
       "      <td>0.088461</td>\n",
       "      <td>-0.053519</td>\n",
       "    </tr>\n",
       "    <tr>\n",
       "      <th>7</th>\n",
       "      <td>LMC</td>\n",
       "      <td>-68.98564</td>\n",
       "      <td>F</td>\n",
       "      <td>4.679856</td>\n",
       "      <td>0.719</td>\n",
       "      <td>15.21055</td>\n",
       "      <td>15.124874</td>\n",
       "      <td>0.230915</td>\n",
       "      <td>OGLE-LMC-CEP-0023</td>\n",
       "      <td>0.085676</td>\n",
       "      <td>0.012905</td>\n",
       "    </tr>\n",
       "    <tr>\n",
       "      <th>8</th>\n",
       "      <td>LMC</td>\n",
       "      <td>-69.11508</td>\n",
       "      <td>F</td>\n",
       "      <td>4.681769</td>\n",
       "      <td>0.814</td>\n",
       "      <td>14.08130</td>\n",
       "      <td>13.990079</td>\n",
       "      <td>0.572116</td>\n",
       "      <td>OGLE-LMC-CEP-0025</td>\n",
       "      <td>0.091221</td>\n",
       "      <td>0.029417</td>\n",
       "    </tr>\n",
       "    <tr>\n",
       "      <th>9</th>\n",
       "      <td>LMC</td>\n",
       "      <td>-68.79975</td>\n",
       "      <td>F</td>\n",
       "      <td>4.686733</td>\n",
       "      <td>0.615</td>\n",
       "      <td>14.51275</td>\n",
       "      <td>14.529100</td>\n",
       "      <td>0.410047</td>\n",
       "      <td>OGLE-LMC-CEP-0026</td>\n",
       "      <td>-0.016350</td>\n",
       "      <td>-0.132302</td>\n",
       "    </tr>\n",
       "  </tbody>\n",
       "</table>\n",
       "</div>"
      ],
      "text/plain": [
       "  Cloud     Decl0 Mode       RA0     VI         W    fitted0     logP1  \\\n",
       "0   LMC -69.81933    F  4.529733  0.740  14.52500  14.250240  0.493893   \n",
       "1   LMC -69.73497    F  4.592089  0.752  13.49540  13.401377  0.749122   \n",
       "2   LMC -67.21442    F  4.630203  0.598  14.54210  14.479661  0.424912   \n",
       "3   LMC -67.64631    F  4.642367  1.080  12.03300  12.495625  1.021456   \n",
       "4   LMC -69.68839    F  4.649119  0.647  14.34215  14.012004  0.565524   \n",
       "5   LMC -68.95689    F  4.649717  0.829  13.93705  13.873312  0.607225   \n",
       "6   LMC -69.26183    F  4.658600  0.769  13.53005  13.441589  0.737032   \n",
       "7   LMC -68.98564    F  4.679856  0.719  15.21055  15.124874  0.230915   \n",
       "8   LMC -69.11508    F  4.681769  0.814  14.08130  13.990079  0.572116   \n",
       "9   LMC -68.79975    F  4.686733  0.615  14.51275  14.529100  0.410047   \n",
       "\n",
       "                name    resid0  resid_vi  \n",
       "0  OGLE-LMC-CEP-0002  0.274760 -0.026589  \n",
       "1  OGLE-LMC-CEP-0005  0.094023 -0.073301  \n",
       "2  OGLE-LMC-CEP-0012  0.062439 -0.152721  \n",
       "3  OGLE-LMC-CEP-0016 -0.462625  0.192053  \n",
       "4  OGLE-LMC-CEP-0017  0.330146 -0.136067  \n",
       "5  OGLE-LMC-CEP-0018  0.063738  0.036341  \n",
       "6  OGLE-LMC-CEP-0021  0.088461 -0.053519  \n",
       "7  OGLE-LMC-CEP-0023  0.085676  0.012905  \n",
       "8  OGLE-LMC-CEP-0025  0.091221  0.029417  \n",
       "9  OGLE-LMC-CEP-0026 -0.016350 -0.132302  "
      ]
     },
     "execution_count": 33,
     "metadata": {},
     "output_type": "execute_result"
    }
   ],
   "source": [
    "c_tmp3.iloc[0:10]"
   ]
  },
  {
   "cell_type": "code",
   "execution_count": 34,
   "metadata": {
    "collapsed": false
   },
   "outputs": [],
   "source": [
    "lmfit_lmc_fu2 = smf.ols(formula = 'W ~ logP1 + resid_vi', data = c_tmp3, subset = i_lmc & i_fu).fit()\n",
    "lmfit_lmc_fo2 = smf.ols(formula = 'W ~ logP1 + resid_vi', data = c_tmp3, subset = i_lmc & -i_fu).fit()\n",
    "\n",
    "lmfit_smc_fu2 = smf.ols(formula = 'W ~ logP1 + resid_vi', data = c_tmp3, subset = -i_lmc & i_fu).fit()\n",
    "lmfit_smc_fo2 = smf.ols(formula = 'W ~ logP1 + resid_vi', data = c_tmp3, subset = -i_lmc & -i_fu).fit()"
   ]
  },
  {
   "cell_type": "code",
   "execution_count": 35,
   "metadata": {
    "collapsed": false
   },
   "outputs": [
    {
     "name": "stdout",
     "output_type": "stream",
     "text": [
      "                            OLS Regression Results                            \n",
      "==============================================================================\n",
      "Dep. Variable:                      W   R-squared:                       0.962\n",
      "Model:                            OLS   Adj. R-squared:                  0.962\n",
      "Method:                 Least Squares   F-statistic:                 2.280e+04\n",
      "Date:                Mon, 01 Aug 2016   Prob (F-statistic):               0.00\n",
      "Time:                        18:01:09   Log-Likelihood:                 960.12\n",
      "No. Observations:                1806   AIC:                            -1914.\n",
      "Df Residuals:                    1803   BIC:                            -1898.\n",
      "Df Model:                           2                                         \n",
      "Covariance Type:            nonrobust                                         \n",
      "==============================================================================\n",
      "                 coef    std err          t      P>|t|      [95.0% Conf. Int.]\n",
      "------------------------------------------------------------------------------\n",
      "Intercept     15.8929      0.010   1584.215      0.000        15.873    15.913\n",
      "logP1         -3.3259      0.016   -213.446      0.000        -3.356    -3.295\n",
      "resid_vi      -0.1768      0.027     -6.432      0.000        -0.231    -0.123\n",
      "==============================================================================\n",
      "Omnibus:                     1249.548   Durbin-Watson:                   1.976\n",
      "Prob(Omnibus):                  0.000   Jarque-Bera (JB):            60644.712\n",
      "Skew:                          -2.656   Prob(JB):                         0.00\n",
      "Kurtosis:                      30.887   Cond. No.                         9.64\n",
      "==============================================================================\n",
      "\n",
      "Warnings:\n",
      "[1] Standard Errors assume that the covariance matrix of the errors is correctly specified.\n"
     ]
    }
   ],
   "source": [
    "print lmfit_lmc_fu2.summary()"
   ]
  },
  {
   "cell_type": "code",
   "execution_count": 36,
   "metadata": {
    "collapsed": false
   },
   "outputs": [
    {
     "name": "stdout",
     "output_type": "stream",
     "text": [
      "                            OLS Regression Results                            \n",
      "==============================================================================\n",
      "Dep. Variable:                      W   R-squared:                       0.961\n",
      "Model:                            OLS   Adj. R-squared:                  0.961\n",
      "Method:                 Least Squares   F-statistic:                 4.456e+04\n",
      "Date:                Mon, 01 Aug 2016   Prob (F-statistic):               0.00\n",
      "Time:                        18:01:15   Log-Likelihood:                 939.63\n",
      "No. Observations:                1806   AIC:                            -1875.\n",
      "Df Residuals:                    1804   BIC:                            -1864.\n",
      "Df Model:                           1                                         \n",
      "Covariance Type:            nonrobust                                         \n",
      "==============================================================================\n",
      "                 coef    std err          t      P>|t|      [95.0% Conf. Int.]\n",
      "------------------------------------------------------------------------------\n",
      "Intercept     15.8929      0.010   1566.779      0.000        15.873    15.913\n",
      "logP1         -3.3259      0.016   -211.097      0.000        -3.357    -3.295\n",
      "==============================================================================\n",
      "Omnibus:                     1305.333   Durbin-Watson:                   1.978\n",
      "Prob(Omnibus):                  0.000   Jarque-Bera (JB):            77083.345\n",
      "Skew:                          -2.777   Prob(JB):                         0.00\n",
      "Kurtosis:                      34.520   Cond. No.                         6.43\n",
      "==============================================================================\n",
      "\n",
      "Warnings:\n",
      "[1] Standard Errors assume that the covariance matrix of the errors is correctly specified.\n"
     ]
    }
   ],
   "source": [
    "print lmfit_lmc_fu.summary()"
   ]
  },
  {
   "cell_type": "code",
   "execution_count": 22,
   "metadata": {
    "collapsed": false
   },
   "outputs": [],
   "source": [
    "lmfit_lmc_fu1 = smf.ols(formula = 'W ~ logP1 + VI', data = c_tmp3, subset = i_lmc & i_fu).fit()\n",
    "lmfit_lmc_fo1 = smf.ols(formula = 'W ~ logP1 + VI', data = c_tmp3, subset = i_lmc & -i_fu).fit()\n",
    "\n",
    "lmfit_smc_fu1 = smf.ols(formula = 'W ~ logP1 + VI', data = c_tmp3, subset = -i_lmc & i_fu).fit()\n",
    "lmfit_smc_fo1 = smf.ols(formula = 'W ~ logP1 + VI', data = c_tmp3, subset = -i_lmc & -i_fu).fit()"
   ]
  },
  {
   "cell_type": "code",
   "execution_count": 39,
   "metadata": {
    "collapsed": false
   },
   "outputs": [
    {
     "name": "stdout",
     "output_type": "stream",
     "text": [
      "                            OLS Regression Results                            \n",
      "==============================================================================\n",
      "Dep. Variable:                      W   R-squared:                       0.962\n",
      "Model:                            OLS   Adj. R-squared:                  0.962\n",
      "Method:                 Least Squares   F-statistic:                 2.280e+04\n",
      "Date:                Tue, 26 Jul 2016   Prob (F-statistic):               0.00\n",
      "Time:                        11:08:46   Log-Likelihood:                 960.12\n",
      "No. Observations:                1806   AIC:                            -1914.\n",
      "Df Residuals:                    1803   BIC:                            -1898.\n",
      "Df Model:                           2                                         \n",
      "Covariance Type:            nonrobust                                         \n",
      "==============================================================================\n",
      "                 coef    std err          t      P>|t|      [95.0% Conf. Int.]\n",
      "------------------------------------------------------------------------------\n",
      "Intercept     16.0083      0.021    778.718      0.000        15.968    16.049\n",
      "logP1         -3.2852      0.017   -195.372      0.000        -3.318    -3.252\n",
      "VI            -0.1768      0.027     -6.432      0.000        -0.231    -0.123\n",
      "==============================================================================\n",
      "Omnibus:                     1249.548   Durbin-Watson:                   1.976\n",
      "Prob(Omnibus):                  0.000   Jarque-Bera (JB):            60644.712\n",
      "Skew:                          -2.656   Prob(JB):                         0.00\n",
      "Kurtosis:                      30.887   Cond. No.                         14.2\n",
      "==============================================================================\n",
      "\n",
      "Warnings:\n",
      "[1] Standard Errors assume that the covariance matrix of the errors is correctly specified.\n"
     ]
    }
   ],
   "source": [
    "print lmfit_lmc_fu1.summary()"
   ]
  },
  {
   "cell_type": "code",
   "execution_count": 32,
   "metadata": {
    "collapsed": true
   },
   "outputs": [],
   "source": [
    "c_tmp = pd.DataFrame(columns = ['resid2'], dtype = float)\n",
    "c_tmp4 = pd.DataFrame.add(c_tmp3, other = c_tmp, axis = \"columns\")\n",
    "c_tmp4[['name','RA0','Decl0','Mode','Cloud','logP1','VI','W','fitted0','resid0','resid_vi']] = c_tmp3[['name','RA0','Decl0','Mode','Cloud','logP1','VI','W','fitted0','resid0','resid_vi']]\n",
    "c_tmp4.loc[(i_lmc & i_fu),'resid2'] = lmfit_lmc_fu2.resid\n",
    "c_tmp4.loc[(-i_lmc & i_fu),'resid2'] = lmfit_smc_fu2.resid\n",
    "c_tmp4.loc[(i_lmc & -i_fu),'resid2'] = lmfit_lmc_fo2.resid\n",
    "c_tmp4.loc[(-i_lmc & -i_fu),'resid2'] = lmfit_smc_fo2.resid"
   ]
  },
  {
   "cell_type": "code",
   "execution_count": 33,
   "metadata": {
    "collapsed": false
   },
   "outputs": [
    {
     "data": {
      "text/html": [
       "<div>\n",
       "<table border=\"1\" class=\"dataframe\">\n",
       "  <thead>\n",
       "    <tr style=\"text-align: right;\">\n",
       "      <th></th>\n",
       "      <th>Cloud</th>\n",
       "      <th>Decl0</th>\n",
       "      <th>Mode</th>\n",
       "      <th>RA0</th>\n",
       "      <th>VI</th>\n",
       "      <th>W</th>\n",
       "      <th>fitted0</th>\n",
       "      <th>logP1</th>\n",
       "      <th>name</th>\n",
       "      <th>resid0</th>\n",
       "      <th>resid2</th>\n",
       "      <th>resid_vi</th>\n",
       "    </tr>\n",
       "  </thead>\n",
       "  <tbody>\n",
       "    <tr>\n",
       "      <th>0</th>\n",
       "      <td>LMC</td>\n",
       "      <td>-69.81933</td>\n",
       "      <td>F</td>\n",
       "      <td>4.529733</td>\n",
       "      <td>0.740</td>\n",
       "      <td>14.52500</td>\n",
       "      <td>14.250240</td>\n",
       "      <td>0.493893</td>\n",
       "      <td>OGLE-LMC-CEP-0002</td>\n",
       "      <td>0.274760</td>\n",
       "      <td>0.270060</td>\n",
       "      <td>-0.026589</td>\n",
       "    </tr>\n",
       "    <tr>\n",
       "      <th>1</th>\n",
       "      <td>LMC</td>\n",
       "      <td>-69.73497</td>\n",
       "      <td>F</td>\n",
       "      <td>4.592089</td>\n",
       "      <td>0.752</td>\n",
       "      <td>13.49540</td>\n",
       "      <td>13.401377</td>\n",
       "      <td>0.749122</td>\n",
       "      <td>OGLE-LMC-CEP-0005</td>\n",
       "      <td>0.094023</td>\n",
       "      <td>0.081067</td>\n",
       "      <td>-0.073301</td>\n",
       "    </tr>\n",
       "    <tr>\n",
       "      <th>2</th>\n",
       "      <td>LMC</td>\n",
       "      <td>-67.21442</td>\n",
       "      <td>F</td>\n",
       "      <td>4.630203</td>\n",
       "      <td>0.598</td>\n",
       "      <td>14.54210</td>\n",
       "      <td>14.479661</td>\n",
       "      <td>0.424912</td>\n",
       "      <td>OGLE-LMC-CEP-0012</td>\n",
       "      <td>0.062439</td>\n",
       "      <td>0.035445</td>\n",
       "      <td>-0.152721</td>\n",
       "    </tr>\n",
       "    <tr>\n",
       "      <th>3</th>\n",
       "      <td>LMC</td>\n",
       "      <td>-67.64631</td>\n",
       "      <td>F</td>\n",
       "      <td>4.642367</td>\n",
       "      <td>1.080</td>\n",
       "      <td>12.03300</td>\n",
       "      <td>12.495625</td>\n",
       "      <td>1.021456</td>\n",
       "      <td>OGLE-LMC-CEP-0016</td>\n",
       "      <td>-0.462625</td>\n",
       "      <td>-0.428679</td>\n",
       "      <td>0.192053</td>\n",
       "    </tr>\n",
       "    <tr>\n",
       "      <th>4</th>\n",
       "      <td>LMC</td>\n",
       "      <td>-69.68839</td>\n",
       "      <td>F</td>\n",
       "      <td>4.649119</td>\n",
       "      <td>0.647</td>\n",
       "      <td>14.34215</td>\n",
       "      <td>14.012004</td>\n",
       "      <td>0.565524</td>\n",
       "      <td>OGLE-LMC-CEP-0017</td>\n",
       "      <td>0.330146</td>\n",
       "      <td>0.306096</td>\n",
       "      <td>-0.136067</td>\n",
       "    </tr>\n",
       "    <tr>\n",
       "      <th>5</th>\n",
       "      <td>LMC</td>\n",
       "      <td>-68.95689</td>\n",
       "      <td>F</td>\n",
       "      <td>4.649717</td>\n",
       "      <td>0.829</td>\n",
       "      <td>13.93705</td>\n",
       "      <td>13.873312</td>\n",
       "      <td>0.607225</td>\n",
       "      <td>OGLE-LMC-CEP-0018</td>\n",
       "      <td>0.063738</td>\n",
       "      <td>0.070162</td>\n",
       "      <td>0.036341</td>\n",
       "    </tr>\n",
       "    <tr>\n",
       "      <th>6</th>\n",
       "      <td>LMC</td>\n",
       "      <td>-69.26183</td>\n",
       "      <td>F</td>\n",
       "      <td>4.658600</td>\n",
       "      <td>0.769</td>\n",
       "      <td>13.53005</td>\n",
       "      <td>13.441589</td>\n",
       "      <td>0.737032</td>\n",
       "      <td>OGLE-LMC-CEP-0021</td>\n",
       "      <td>0.088461</td>\n",
       "      <td>0.079001</td>\n",
       "      <td>-0.053519</td>\n",
       "    </tr>\n",
       "    <tr>\n",
       "      <th>7</th>\n",
       "      <td>LMC</td>\n",
       "      <td>-68.98564</td>\n",
       "      <td>F</td>\n",
       "      <td>4.679856</td>\n",
       "      <td>0.719</td>\n",
       "      <td>15.21055</td>\n",
       "      <td>15.124874</td>\n",
       "      <td>0.230915</td>\n",
       "      <td>OGLE-LMC-CEP-0023</td>\n",
       "      <td>0.085676</td>\n",
       "      <td>0.087957</td>\n",
       "      <td>0.012905</td>\n",
       "    </tr>\n",
       "    <tr>\n",
       "      <th>8</th>\n",
       "      <td>LMC</td>\n",
       "      <td>-69.11508</td>\n",
       "      <td>F</td>\n",
       "      <td>4.681769</td>\n",
       "      <td>0.814</td>\n",
       "      <td>14.08130</td>\n",
       "      <td>13.990079</td>\n",
       "      <td>0.572116</td>\n",
       "      <td>OGLE-LMC-CEP-0025</td>\n",
       "      <td>0.091221</td>\n",
       "      <td>0.096421</td>\n",
       "      <td>0.029417</td>\n",
       "    </tr>\n",
       "    <tr>\n",
       "      <th>9</th>\n",
       "      <td>LMC</td>\n",
       "      <td>-68.79975</td>\n",
       "      <td>F</td>\n",
       "      <td>4.686733</td>\n",
       "      <td>0.615</td>\n",
       "      <td>14.51275</td>\n",
       "      <td>14.529100</td>\n",
       "      <td>0.410047</td>\n",
       "      <td>OGLE-LMC-CEP-0026</td>\n",
       "      <td>-0.016350</td>\n",
       "      <td>-0.039735</td>\n",
       "      <td>-0.132302</td>\n",
       "    </tr>\n",
       "  </tbody>\n",
       "</table>\n",
       "</div>"
      ],
      "text/plain": [
       "  Cloud     Decl0 Mode       RA0     VI         W    fitted0     logP1  \\\n",
       "0   LMC -69.81933    F  4.529733  0.740  14.52500  14.250240  0.493893   \n",
       "1   LMC -69.73497    F  4.592089  0.752  13.49540  13.401377  0.749122   \n",
       "2   LMC -67.21442    F  4.630203  0.598  14.54210  14.479661  0.424912   \n",
       "3   LMC -67.64631    F  4.642367  1.080  12.03300  12.495625  1.021456   \n",
       "4   LMC -69.68839    F  4.649119  0.647  14.34215  14.012004  0.565524   \n",
       "5   LMC -68.95689    F  4.649717  0.829  13.93705  13.873312  0.607225   \n",
       "6   LMC -69.26183    F  4.658600  0.769  13.53005  13.441589  0.737032   \n",
       "7   LMC -68.98564    F  4.679856  0.719  15.21055  15.124874  0.230915   \n",
       "8   LMC -69.11508    F  4.681769  0.814  14.08130  13.990079  0.572116   \n",
       "9   LMC -68.79975    F  4.686733  0.615  14.51275  14.529100  0.410047   \n",
       "\n",
       "                name    resid0    resid2  resid_vi  \n",
       "0  OGLE-LMC-CEP-0002  0.274760  0.270060 -0.026589  \n",
       "1  OGLE-LMC-CEP-0005  0.094023  0.081067 -0.073301  \n",
       "2  OGLE-LMC-CEP-0012  0.062439  0.035445 -0.152721  \n",
       "3  OGLE-LMC-CEP-0016 -0.462625 -0.428679  0.192053  \n",
       "4  OGLE-LMC-CEP-0017  0.330146  0.306096 -0.136067  \n",
       "5  OGLE-LMC-CEP-0018  0.063738  0.070162  0.036341  \n",
       "6  OGLE-LMC-CEP-0021  0.088461  0.079001 -0.053519  \n",
       "7  OGLE-LMC-CEP-0023  0.085676  0.087957  0.012905  \n",
       "8  OGLE-LMC-CEP-0025  0.091221  0.096421  0.029417  \n",
       "9  OGLE-LMC-CEP-0026 -0.016350 -0.039735 -0.132302  "
      ]
     },
     "execution_count": 33,
     "metadata": {},
     "output_type": "execute_result"
    }
   ],
   "source": [
    "c_tmp4.iloc[0:10]"
   ]
  },
  {
   "cell_type": "code",
   "execution_count": 36,
   "metadata": {
    "collapsed": true
   },
   "outputs": [],
   "source": [
    "fig = plt.figure(1)\n",
    "\n",
    "fig.add_subplot(221)\n",
    "plt.plot(c_tmp2[-i_lmc & i_fu]['logP1'], c_tmp2[-i_lmc & i_fu]['resid0'], 'ko', alpha=0.6)\n",
    "plt.plot(c_tmp4[-i_lmc & i_fu]['logP1'], c_tmp4[-i_lmc & i_fu]['resid2'], \"mo\", alpha=0.4)\n",
    "#plt.hlines(0, xmin = c_tmp2[-i_lmc & i_fu]['logP1'].min(), xmax = c_tmp2[-i_lmc & i_fu]['logP1'].max(), lw = 2)\n",
    "plt.title('SMC FU')\n",
    "\n",
    "fig.add_subplot(222)\n",
    "plt.plot(c_tmp2[i_lmc & i_fu]['logP1'], c_tmp2[i_lmc & i_fu]['resid0'], 'ko', alpha=0.6)\n",
    "plt.plot(c_tmp4[i_lmc & i_fu]['logP1'], c_tmp4[i_lmc & i_fu]['resid2'], 'mo', alpha=0.4)\n",
    "#plt.hlines(0, xmin = c_tmp2[-i_lmc & i_fu]['logP1'].min(), xmax = c_tmp2[-i_lmc & i_fu]['logP1'].max(), lw = 2)\n",
    "plt.title('LMC FU')\n",
    "\n",
    "fig.add_subplot(223)\n",
    "plt.plot(c_tmp2[-i_lmc & -i_fu]['logP1'], c_tmp2[-i_lmc & -i_fu]['resid0'], 'ko', alpha=0.6)\n",
    "plt.plot(c_tmp4[-i_lmc & -i_fu]['logP1'], c_tmp4[-i_lmc & -i_fu]['resid2'], 'mo', alpha=0.4)\n",
    "#plt.hlines(0, xmin = c_tmp2[-i_lmc & -i_fu]['logP1'].min(), xmax = c_tmp2[-i_lmc & -i_fu]['logP1'].max(), lw = 2)\n",
    "plt.title('SMC FO')\n",
    "\n",
    "fig.add_subplot(224)\n",
    "plt.plot(c_tmp2[i_lmc & -i_fu]['logP1'], c_tmp2[i_lmc & -i_fu]['resid0'], 'ko', alpha=0.6)\n",
    "plt.plot(c_tmp4[i_lmc & -i_fu]['logP1'], c_tmp4[i_lmc & -i_fu]['resid2'], 'mo', alpha=0.4)\n",
    "#plt.hlines(0, xmin = c_tmp2[i_lmc & -i_fu]['logP1'].min(), xmax = c_tmp2[i_lmc & -i_fu]['logP1'].max(), lw = 2)\n",
    "plt.title('LMC FO')\n",
    "\n",
    "plt.show()\n",
    "\n",
    "\n"
   ]
  },
  {
   "cell_type": "code",
   "execution_count": 29,
   "metadata": {
    "collapsed": false
   },
   "outputs": [
    {
     "data": {
      "text/plain": [
       "-1154.2452576013848"
      ]
     },
     "execution_count": 29,
     "metadata": {},
     "output_type": "execute_result"
    }
   ],
   "source": [
    "lmfit_lmc_fo1.bic"
   ]
  },
  {
   "cell_type": "code",
   "execution_count": 30,
   "metadata": {
    "collapsed": false
   },
   "outputs": [
    {
     "data": {
      "text/plain": [
       "-1154.2452576013848"
      ]
     },
     "execution_count": 30,
     "metadata": {},
     "output_type": "execute_result"
    }
   ],
   "source": [
    "lmfit_lmc_fo2.bic"
   ]
  },
  {
   "cell_type": "code",
   "execution_count": 37,
   "metadata": {
    "collapsed": false
   },
   "outputs": [
    {
     "name": "stdout",
     "output_type": "stream",
     "text": [
      "-1126.47644923\n",
      "-1154.2452576\n",
      "-1154.2452576\n"
     ]
    }
   ],
   "source": [
    "    print lmfit_lmc_fo.bic\n",
    "    print lmfit_lmc_fo2.bic\n",
    "    print lmfit_lmc_fo1.bic"
   ]
  },
  {
   "cell_type": "code",
   "execution_count": 40,
   "metadata": {
    "collapsed": false
   },
   "outputs": [
    {
     "name": "stdout",
     "output_type": "stream",
     "text": [
      "                            OLS Regression Results                            \n",
      "==============================================================================\n",
      "Dep. Variable:                      W   R-squared:                       0.962\n",
      "Model:                            OLS   Adj. R-squared:                  0.962\n",
      "Method:                 Least Squares   F-statistic:                 2.280e+04\n",
      "Date:                Tue, 26 Jul 2016   Prob (F-statistic):               0.00\n",
      "Time:                        11:11:22   Log-Likelihood:                 960.12\n",
      "No. Observations:                1806   AIC:                            -1914.\n",
      "Df Residuals:                    1803   BIC:                            -1898.\n",
      "Df Model:                           2                                         \n",
      "Covariance Type:            nonrobust                                         \n",
      "==============================================================================\n",
      "                 coef    std err          t      P>|t|      [95.0% Conf. Int.]\n",
      "------------------------------------------------------------------------------\n",
      "Intercept     16.0083      0.021    778.718      0.000        15.968    16.049\n",
      "logP1         -3.2852      0.017   -195.372      0.000        -3.318    -3.252\n",
      "VI            -0.1768      0.027     -6.432      0.000        -0.231    -0.123\n",
      "==============================================================================\n",
      "Omnibus:                     1249.548   Durbin-Watson:                   1.976\n",
      "Prob(Omnibus):                  0.000   Jarque-Bera (JB):            60644.712\n",
      "Skew:                          -2.656   Prob(JB):                         0.00\n",
      "Kurtosis:                      30.887   Cond. No.                         14.2\n",
      "==============================================================================\n",
      "\n",
      "Warnings:\n",
      "[1] Standard Errors assume that the covariance matrix of the errors is correctly specified.\n",
      "                            OLS Regression Results                            \n",
      "==============================================================================\n",
      "Dep. Variable:                      W   R-squared:                       0.962\n",
      "Model:                            OLS   Adj. R-squared:                  0.962\n",
      "Method:                 Least Squares   F-statistic:                 2.280e+04\n",
      "Date:                Tue, 26 Jul 2016   Prob (F-statistic):               0.00\n",
      "Time:                        11:11:22   Log-Likelihood:                 960.12\n",
      "No. Observations:                1806   AIC:                            -1914.\n",
      "Df Residuals:                    1803   BIC:                            -1898.\n",
      "Df Model:                           2                                         \n",
      "Covariance Type:            nonrobust                                         \n",
      "==============================================================================\n",
      "                 coef    std err          t      P>|t|      [95.0% Conf. Int.]\n",
      "------------------------------------------------------------------------------\n",
      "Intercept     15.8929      0.010   1584.215      0.000        15.873    15.913\n",
      "logP1         -3.3259      0.016   -213.446      0.000        -3.356    -3.295\n",
      "resid_vi      -0.1768      0.027     -6.432      0.000        -0.231    -0.123\n",
      "==============================================================================\n",
      "Omnibus:                     1249.548   Durbin-Watson:                   1.976\n",
      "Prob(Omnibus):                  0.000   Jarque-Bera (JB):            60644.712\n",
      "Skew:                          -2.656   Prob(JB):                         0.00\n",
      "Kurtosis:                      30.887   Cond. No.                         9.64\n",
      "==============================================================================\n",
      "\n",
      "Warnings:\n",
      "[1] Standard Errors assume that the covariance matrix of the errors is correctly specified.\n"
     ]
    }
   ],
   "source": [
    "print lmfit_lmc_fu1.summary()\n",
    "print lmfit_lmc_fu2.summary()"
   ]
  },
  {
   "cell_type": "code",
   "execution_count": 36,
   "metadata": {
    "collapsed": false
   },
   "outputs": [
    {
     "name": "stdout",
     "output_type": "stream",
     "text": [
      "Object `smf.summary` not found.\n"
     ]
    }
   ],
   "source": [
    "?"
   ]
  },
  {
   "cell_type": "code",
   "execution_count": 34,
   "metadata": {
    "collapsed": false
   },
   "outputs": [
    {
     "data": {
      "text/plain": [
       "['HC0_se',\n",
       " 'HC1_se',\n",
       " 'HC2_se',\n",
       " 'HC3_se',\n",
       " '_HCCM',\n",
       " '__class__',\n",
       " '__delattr__',\n",
       " '__dict__',\n",
       " '__doc__',\n",
       " '__format__',\n",
       " '__getattribute__',\n",
       " '__hash__',\n",
       " '__init__',\n",
       " '__module__',\n",
       " '__new__',\n",
       " '__reduce__',\n",
       " '__reduce_ex__',\n",
       " '__repr__',\n",
       " '__setattr__',\n",
       " '__sizeof__',\n",
       " '__str__',\n",
       " '__subclasshook__',\n",
       " '__weakref__',\n",
       " '_cache',\n",
       " '_data_attr',\n",
       " '_get_robustcov_results',\n",
       " '_is_nested',\n",
       " '_wexog_singular_values',\n",
       " 'aic',\n",
       " 'bic',\n",
       " 'bse',\n",
       " 'centered_tss',\n",
       " 'compare_f_test',\n",
       " 'compare_lm_test',\n",
       " 'compare_lr_test',\n",
       " 'condition_number',\n",
       " 'conf_int',\n",
       " 'conf_int_el',\n",
       " 'cov_HC0',\n",
       " 'cov_HC1',\n",
       " 'cov_HC2',\n",
       " 'cov_HC3',\n",
       " 'cov_kwds',\n",
       " 'cov_params',\n",
       " 'cov_type',\n",
       " 'df_model',\n",
       " 'df_resid',\n",
       " 'eigenvals',\n",
       " 'el_test',\n",
       " 'ess',\n",
       " 'f_pvalue',\n",
       " 'f_test',\n",
       " 'fittedvalues',\n",
       " 'fvalue',\n",
       " 'get_influence',\n",
       " 'get_robustcov_results',\n",
       " 'initialize',\n",
       " 'k_constant',\n",
       " 'llf',\n",
       " 'load',\n",
       " 'model',\n",
       " 'mse_model',\n",
       " 'mse_resid',\n",
       " 'mse_total',\n",
       " 'nobs',\n",
       " 'normalized_cov_params',\n",
       " 'outlier_test',\n",
       " 'params',\n",
       " 'predict',\n",
       " 'pvalues',\n",
       " 'remove_data',\n",
       " 'resid',\n",
       " 'resid_pearson',\n",
       " 'rsquared',\n",
       " 'rsquared_adj',\n",
       " 'save',\n",
       " 'scale',\n",
       " 'ssr',\n",
       " 'summary',\n",
       " 'summary2',\n",
       " 't_test',\n",
       " 'tvalues',\n",
       " 'uncentered_tss',\n",
       " 'use_t',\n",
       " 'wald_test',\n",
       " 'wresid']"
      ]
     },
     "execution_count": 34,
     "metadata": {},
     "output_type": "execute_result"
    }
   ],
   "source": [
    "dir(lmfit_lmc_fu)"
   ]
  },
  {
   "cell_type": "code",
   "execution_count": null,
   "metadata": {
    "collapsed": true
   },
   "outputs": [],
   "source": [
    "help(pd.stats.math)"
   ]
  }
 ],
 "metadata": {
  "celltoolbar": "Raw Cell Format",
  "kernelspec": {
   "display_name": "Python 2",
   "language": "python",
   "name": "python2"
  },
  "language_info": {
   "codemirror_mode": {
    "name": "ipython",
    "version": 2
   },
   "file_extension": ".py",
   "mimetype": "text/x-python",
   "name": "python",
   "nbconvert_exporter": "python",
   "pygments_lexer": "ipython2",
   "version": "2.7.11"
  }
 },
 "nbformat": 4,
 "nbformat_minor": 0
}
