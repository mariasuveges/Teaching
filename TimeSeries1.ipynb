{
 "cells": [
  {
   "cell_type": "code",
   "execution_count": 1,
   "metadata": {
    "collapsed": false
   },
   "outputs": [],
   "source": [
    "import numpy as np\n",
    "#import math\n",
    "#import cmath\n",
    "from matplotlib import pyplot as plt\n",
    "import pandas as pd\n",
    "import astroML.time_series as ts\n",
    "import random"
   ]
  },
  {
   "cell_type": "markdown",
   "metadata": {},
   "source": [
    "# Harmonic and Fourier analysis\n",
    "\n",
    "## General characteristics of time series spectra\n",
    "\n",
    "\n",
    "Ex. 1. THE EFFECTS OF VARIATIONS IN THE TIME SAMPLING\n",
    "\n",
    "1.1 Create arrays of time cadences as follows:   \n",
    "\n",
    "(a) 365 times with a precise daily cadence;\n",
    "(b) for the same time span, but with 5 times per day evenly;\n",
    "(c) for five times 365 days, with a precise daily cadence. \n",
    "\n",
    "Compute the spectral windows for all time samplings (a), (b) and (c). Plot them. \n",
    "\n",
    "What are the Fourier frequencies of each time sampling? What is the difference between the Fourier-sampled and the oversampled spectral window in (a)? What happens to the (oversampled) spectral windows when you densify the sampling, but keep the total observation time span at 1 year (b)? What happens to them when you keep the time sampling unchanged, but extend the observations for 5 years (c)?\n",
    "\n",
    "1.2 Simulate one sinusoid with frequency 0.25 cycle/day and one with some uglier frequency between 0 and 1 (not falling on a Fourier frequency. Compute the periodograms of both signals on an oversampled frequency grid. What do you see?\n",
    "\n",
    "1.2 Take time sampling (c), and drop every halfyear (keep the first 182 days, then 183 dropped,...). Compute the spectral window and the periodograms again.\n",
    "\n",
    "1.3 Now add a random element to each time (uniformly sampled from the interval (-0.2,0.2), and randomly drop half of them. See what happens with the spectral window and the periodograms."
   ]
  },
  {
   "cell_type": "code",
   "execution_count": null,
   "metadata": {
    "collapsed": false
   },
   "outputs": [],
   "source": [
    "# Oversampling factor: we would like to see spectral windows\n",
    "# and periodograms in more detail than just at the Fourier frequencies\n",
    "oversampling = 10\n",
    "\n",
    "truefreq = 0.2284271247\n",
    "\n",
    "# Time sampling (a):\n",
    "ts = np.linspace(start = 1, stop = 90, num = 90)\n",
    "df1 = pd.DataFrame({'time': ts,\n",
    "                   'cst': np.ones(90),\n",
    "                   'sin1': np.sin(2 * math.pi * truefreq * ts),\n",
    "                   'sin2': np.sin(2 * math.pi * (71./90.) * ts)})\n",
    "F_freqs1 = np.linspace(start = 0, stop = 90, num = 91) / 90\n",
    "freqs1 = np.linspace(start = 0, stop = 2*90, num = oversampling*2*90+1) / 90\n",
    "\n",
    "# Time sampling (b):\n",
    "ts = np.linspace(start = 0.25, stop = 90, num = 4*90)\n",
    "df2 = pd.DataFrame({'time': ts,\n",
    "                   'cst': np.ones(len(ts)),\n",
    "                   'sin1': np.sin(2 * math.pi * truefreq * ts),\n",
    "                   'sin2': np.sin(2 * math.pi * (71./90.) * ts)})\n",
    "F_freqs2 = np.linspace(start = 0, stop = 4*90, num = 4*90+1) / 90\n",
    "freqs2 = np.linspace(start = 0, stop = 2*4*90, num = oversampling*2*4*90+1) / 90\n",
    "\n",
    "# Time sampling (c):\n",
    "ts = np.linspace(start = 1, stop = 4*90, num = 4*90)\n",
    "df3 = pd.DataFrame({'time': ts,\n",
    "                   'cst': np.ones(len(ts)),\n",
    "                   'sin1': np.sin(2 * math.pi * truefreq * ts),\n",
    "                   'sin2': np.sin(2 * math.pi * (71./90.) * ts)})\n",
    "F_freqs3 = np.linspace(start = 0, stop = 4*90, num = 4*90+1) / (4*90)\n",
    "freqs3 = np.linspace(start = 0, stop = 2*4*90, num = oversampling*2*4*90+1) / (4*90)\n",
    "\n"
   ]
  },
  {
   "cell_type": "code",
   "execution_count": null,
   "metadata": {
    "collapsed": false
   },
   "outputs": [],
   "source": [
    "df2.describe()"
   ]
  },
  {
   "cell_type": "code",
   "execution_count": null,
   "metadata": {
    "collapsed": false
   },
   "outputs": [],
   "source": [
    "def deemingPSD_fun(times, obs, freqs):\n",
    "    psd_tmp = np.ones(len(freqs))\n",
    "    for jj in np.arange(start = 0, stop = len(freqs)):\n",
    "        freq = freqs[jj]\n",
    "        v_tmp = 2.0 * math.pi * freq * times\n",
    "        s_tmp = np.dot(obs, np.sin(v_tmp))\n",
    "        c_tmp = np.dot(obs, np.cos(v_tmp))\n",
    "        psd_tmp[jj] = (s_tmp**2 + c_tmp**2) / len(times)**2\n",
    "    return psd_tmp\n"
   ]
  },
  {
   "cell_type": "code",
   "execution_count": null,
   "metadata": {
    "collapsed": true
   },
   "outputs": [],
   "source": [
    "import time"
   ]
  },
  {
   "cell_type": "code",
   "execution_count": null,
   "metadata": {
    "collapsed": false
   },
   "outputs": [],
   "source": [
    "start_time = time.time()\n",
    "spw1 = deem<<<<<<ingPSD_fun(times = df1['time'], obs = df1['cst'], freqs = freqs1)\n",
    "print(\"--- %s seconds ---\" % (time.time() - start_time))"
   ]
  },
  {
   "cell_type": "code",
   "execution_count": null,
   "metadata": {
    "collapsed": false
   },
   "outputs": [],
   "source": [
    "start_time = time.time()\n",
    "psd11 = deemingPSD_fun(times = df1['time'], obs = df1['sin1'], freqs = freqs1)\n",
    "print(\"--- %s seconds ---\" % (time.time() - start_time))"
   ]
  },
  {
   "cell_type": "code",
   "execution_count": null,
   "metadata": {
    "collapsed": false
   },
   "outputs": [],
   "source": [
    "start_time = time.time()\n",
    "psd12 = deemingPSD_fun(times = df1['time'], obs = df1['sin2'], freqs = freqs1)\n",
    "print(\"--- %s seconds ---\" % (time.time() - start_time))   ## 3.5 s"
   ]
  },
  {
   "cell_type": "code",
   "execution_count": null,
   "metadata": {
    "collapsed": false
   },
   "outputs": [],
   "source": [
    "start_time = time.time()\n",
    "spw2 = deemingPSD_fun(times = df2['time'], obs = df2['cst'], freqs = freqs2)\n",
    "print(\"--- %s seconds ---\" % (time.time() - start_time))"
   ]
  },
  {
   "cell_type": "code",
   "execution_count": null,
   "metadata": {
    "collapsed": false
   },
   "outputs": [],
   "source": [
    "start_time = time.time()\n",
    "psd21 = deemingPSD_fun(times = df2['time'], obs = df2['sin1'], freqs = freqs2)\n",
    "print(\"--- %s seconds ---\" % (time.time() - start_time))"
   ]
  },
  {
   "cell_type": "code",
   "execution_count": null,
   "metadata": {
    "collapsed": false
   },
   "outputs": [],
   "source": [
    "start_time = time.time()\n",
    "psd22 = deemingPSD_fun(times = df2['time'], obs = df2['sin2'], freqs = freqs2)\n",
    "print(\"--- %s seconds ---\" % (time.time() - start_time))"
   ]
  },
  {
   "cell_type": "code",
   "execution_count": null,
   "metadata": {
    "collapsed": false
   },
   "outputs": [],
   "source": [
    "start_time = time.time()\n",
    "spw3 = deemingPSD_fun(times = df3['time'], obs = df3['cst'], freqs = freqs3)\n",
    "print(\"--- %s seconds ---\" % (time.time() - start_time))"
   ]
  },
  {
   "cell_type": "code",
   "execution_count": null,
   "metadata": {
    "collapsed": false
   },
   "outputs": [],
   "source": [
    "start_time = time.time()\n",
    "psd31 = deemingPSD_fun(times = df3['time'], obs = df3['sin1'], freqs = freqs3)\n",
    "print(\"--- %s seconds ---\" % (time.time() - start_time))"
   ]
  },
  {
   "cell_type": "code",
   "execution_count": null,
   "metadata": {
    "collapsed": false
   },
   "outputs": [],
   "source": [
    "start_time = time.time()\n",
    "psd32 = deemingPSD_fun(times = df3['time'], obs = df3['sin2'], freqs = freqs3)\n",
    "print(\"--- %s seconds ---\" % (time.time() - start_time))   ## 54 s"
   ]
  },
  {
   "cell_type": "code",
   "execution_count": null,
   "metadata": {
    "collapsed": true
   },
   "outputs": [],
   "source": [
    "plt.rcParams[\"figure.figsize\"]   # [8.0, 6.0]\n",
    "# New size:\n",
    "plt.rcParams[\"figure.figsize\"] = [12.0, 9.0]"
   ]
  },
  {
   "cell_type": "code",
   "execution_count": null,
   "metadata": {
    "collapsed": false
   },
   "outputs": [],
   "source": [
    "fig = plt.figure(1)\n",
    "plt.subplots_adjust(left=0.05, bottom=0.05, right=0.95, top=0.95, wspace=None, hspace=0.35)\n",
    "ax1 = fig.add_subplot(311)\n",
    "plt.plot(freqs1, spw1, 'k', alpha=1)\n",
    "plt.title('90 days, sampling 1/d')\n",
    "plt.xlabel('Frequency [1/d]')\n",
    "plt.ylabel('Sp.win.')\n",
    "plt.margins(.01, .05)\n",
    "#plt.vlines(F_freqs1[F_freqs1 < 0.1], ymin = 0, ymax = 1, color='r', linestyle='solid')\n",
    "#plt.xlim(0., .1)\n",
    "\n",
    "ax2 = fig.add_subplot(312)\n",
    "plt.plot(freqs2, spw2, 'k', alpha=1)\n",
    "plt.title('90 days, sampling 4/d')\n",
    "plt.xlabel('Frequency [1/d]')\n",
    "plt.ylabel('Sp.win.')\n",
    "plt.margins(.01, .05)\n",
    "#plt.vlines(F_freqs2[F_freqs2 < 0.1], ymin = 0, ymax = 1, color='r', linestyle='solid')\n",
    "#plt.xlim(0., .1)\n",
    "\n",
    "ax3 = fig.add_subplot(313)\n",
    "plt.plot(freqs3, spw3, 'k', alpha=1)\n",
    "plt.title('360 days, sampling 1/d')\n",
    "plt.xlabel('Frequency [1/d]')\n",
    "plt.ylabel('Sp.win.')\n",
    "plt.margins(.01, .05)\n",
    "#plt.vlines(F_freqs3[F_freqs3 < 0.1], ymin = 0, ymax = 1, color='r', linestyle='solid')\n",
    "#plt.xlim(0., .1)\n",
    "\n",
    "plt.show()"
   ]
  },
  {
   "cell_type": "code",
   "execution_count": null,
   "metadata": {
    "collapsed": false
   },
   "outputs": [],
   "source": [
    "fig = plt.figure(1)\n",
    "plt.subplots_adjust(left=0.05, bottom=0.05, right=0.95, top=0.95, wspace=None, hspace=0.35)\n",
    "\n",
    "ax1 = fig.add_subplot(311)\n",
    "plt.plot(freqs1, psd12, 'k', alpha=1)\n",
    "plt.title('90 days, sampling 1/d')\n",
    "plt.xlabel('Frequency [1/d]')\n",
    "plt.ylabel('PSD')\n",
    "plt.margins(0.01, 0.05)\n",
    "#plt.vlines(F_freqs1, ymin = 0, ymax = 1, color='r', linestyle='solid')\n",
    "#plt.xlim(0.5, 1)\n",
    "plt.axvline(F_freqs1[71], ymin = 0, ymax = 1, color='c', linestyle='dashed')\n",
    "\n",
    "ax2 = fig.add_subplot(312)\n",
    "plt.plot(freqs2, psd22, 'k', alpha=1)\n",
    "plt.title('90 days, sampling 4/d')\n",
    "plt.xlabel('Frequency [1/d]')\n",
    "plt.ylabel('PSD')\n",
    "plt.margins(0.01, 0.05)\n",
    "#plt.vlines(F_freqs2, ymin = 0, ymax = 1, color='r', linestyle='solid')\n",
    "#plt.xlim(0.5, 1)\n",
    "plt.axvline(F_freqs2[71], ymin = 0, ymax = 1, color='c', linestyle='dashed')\n",
    "\n",
    "ax3 = fig.add_subplot(313)\n",
    "plt.plot(freqs3, psd32, 'k', alpha=1)\n",
    "plt.title('360 days, sampling 1/d')\n",
    "plt.xlabel('Frequency [1/d]')\n",
    "plt.ylabel('PSD')\n",
    "plt.margins(0.01, 0.05)\n",
    "#plt.vlines(F_freqs3, ymin = 0, ymax = 1, color='r', linestyle='solid')\n",
    "#plt.xlim(0.5, 1)\n",
    "plt.axvline(F_freqs3[284], ymin = 0, ymax = 1, color='c', linestyle='dashed')\n",
    "\n",
    "plt.show()"
   ]
  },
  {
   "cell_type": "code",
   "execution_count": null,
   "metadata": {
    "collapsed": false
   },
   "outputs": [],
   "source": [
    "fig = plt.figure(1)\n",
    "plt.subplots_adjust(left=0.05, bottom=0.05, right=0.95, top=0.95, wspace=None, hspace=0.35)\n",
    "\n",
    "ax1 = fig.add_subplot(311)\n",
    "plt.plot(freqs1, psd11, 'k', alpha=1)\n",
    "plt.title('90 days, sampling 1/d')\n",
    "plt.xlabel('Frequency [1/d]')\n",
    "plt.ylabel('PSD')\n",
    "plt.margins(0.01, 0.05)\n",
    "plt.vlines(F_freqs1, ymin = 0, ymax = 1, color='r', linestyle='solid')\n",
    "plt.xlim(truefreq-.05, truefreq+.05)\n",
    "plt.ylim(0.,0.3)\n",
    "plt.axvline(truefreq, ymin = 0, ymax = 1, color='c', linestyle='dashed')\n",
    "\n",
    "ax2 = fig.add_subplot(312)\n",
    "plt.plot(freqs2, psd21, 'k', alpha=1)\n",
    "plt.title('90 days, sampling 4/d')\n",
    "plt.xlabel('Frequency [1/d]')\n",
    "plt.ylabel('PSD')\n",
    "plt.margins(0.01, 0.05)\n",
    "plt.vlines(F_freqs2, ymin = 0, ymax = 1, color='r', linestyle='solid')\n",
    "plt.xlim(truefreq-.05, truefreq+.05)\n",
    "plt.ylim(0.,0.3)\n",
    "plt.axvline(truefreq, ymin = 0, ymax = 1, color='c', linestyle='dashed')\n",
    "\n",
    "ax3 = fig.add_subplot(313)\n",
    "plt.plot(freqs3, psd31, 'k', alpha=1)\n",
    "plt.title('360 days, sampling 1/d')\n",
    "plt.xlabel('Frequency [1/d]')\n",
    "plt.ylabel('PSD')\n",
    "plt.margins(0.01, 0.05)\n",
    "plt.vlines(F_freqs3, ymin = 0, ymax = 1, color='r', linestyle='solid')\n",
    "plt.xlim(truefreq-.05, truefreq+.05)\n",
    "plt.ylim(0.,0.3)\n",
    "plt.axvline(truefreq, ymin = 0, ymax = 1, color='c', linestyle='dashed')\n",
    "\n",
    "plt.show()"
   ]
  },
  {
   "cell_type": "code",
   "execution_count": null,
   "metadata": {
    "collapsed": false
   },
   "outputs": [],
   "source": [
    "drop_half_ind = (np.arange(360) % 4 < 2)\n",
    "half_df = df2[drop_half_ind]"
   ]
  },
  {
   "cell_type": "code",
   "execution_count": null,
   "metadata": {
    "collapsed": true
   },
   "outputs": [],
   "source": [
    "start_time = time.time()\n",
    "half_spw2 = deemingPSD_fun(times = half_df['time'], obs = half_df['cst'], freqs = freqs2)\n",
    "print(\"--- %s seconds ---\" % (time.time() - start_time))\n",
    "\n",
    "start_time = time.time()\n",
    "half_psd21 = deemingPSD_fun(times = half_df['time'], obs = half_df['sin1'], freqs = freqs2)\n",
    "print(\"--- %s seconds ---\" % (time.time() - start_time))\n",
    "start_time = time.time()\n",
    "half_psd22 = deemingPSD_fun(times = half_df['time'], obs = half_df['sin2'], freqs = freqs2)\n",
    "print(\"--- %s seconds ---\" % (time.time() - start_time))"
   ]
  },
  {
   "cell_type": "code",
   "execution_count": null,
   "metadata": {
    "collapsed": false
   },
   "outputs": [],
   "source": [
    "fig = plt.figure(1)\n",
    "plt.subplots_adjust(left=0.05, bottom=0.05, right=0.95, top=0.95, wspace=None, hspace=0.35)\n",
    "\n",
    "ax1 = fig.add_subplot(311)\n",
    "plt.plot(freqs2, half_spw2, 'k', alpha=1)\n",
    "plt.title('90 days, sampling 4/d with 50% missing data \\n Spectral window')\n",
    "plt.xlabel('Frequency [1/d]')\n",
    "plt.ylabel('Spectral window')\n",
    "plt.margins(0.01, 0.05)\n",
    "#plt.vlines(F_freqs3, ymin = 0, ymax = 1, color='r', linestyle='solid')\n",
    "#plt.xlim(0.95,1.05)\n",
    "\n",
    "ax2 = fig.add_subplot(312)\n",
    "plt.plot(freqs2, half_psd22, 'k', alpha=1)\n",
    "plt.title('Sine at Fourier frequency')\n",
    "plt.xlabel('Frequency [1/d]')\n",
    "plt.ylabel('PSD')\n",
    "plt.margins(0.01, 0.05)\n",
    "#plt.vlines(F_freqs2, ymin = 0, ymax = 1, color='r', linestyle='solid')\n",
    "#plt.xlim(71./90.-.05, 71./90.+.05)\n",
    "#plt.ylim(0.,0.3)\n",
    "plt.axvline(71./90., ymin = 0, ymax = 1, color='c', linestyle='dashed')\n",
    "\n",
    "ax3 = fig.add_subplot(313)\n",
    "plt.plot(freqs2, half_psd21, 'k', alpha=1)\n",
    "plt.title('Sine, F = 0.2284')\n",
    "plt.xlabel('Frequency [1/d]')\n",
    "plt.ylabel('PSD')\n",
    "plt.margins(0.01, 0.05)\n",
    "#plt.vlines(F_freqs2, ymin = 0, ymax = 1, color='r', linestyle='solid')\n",
    "#plt.xlim(truefreq-.05, truefreq+.05)\n",
    "#plt.ylim(0.,0.3)\n",
    "plt.axvline(truefreq, ymin = 0, ymax = 1, color='c', linestyle='dashed')\n",
    "\n",
    "plt.show()"
   ]
  },
  {
   "cell_type": "code",
   "execution_count": null,
   "metadata": {
    "collapsed": true
   },
   "outputs": [],
   "source": [
    "rnd_df = half_df.sample(frac = 0.5).sort(axis = 0, columns = 'time')\n",
    "#rnd_df = half_df.sample(frac = 0.5)\n",
    "rnd_df"
   ]
  },
  {
   "cell_type": "code",
   "execution_count": null,
   "metadata": {
    "collapsed": false
   },
   "outputs": [],
   "source": [
    "rnd_df['time'] = rnd_df['time'] + np.random.uniform(-0.1,0.1, size = 90)"
   ]
  },
  {
   "cell_type": "code",
   "execution_count": null,
   "metadata": {
    "collapsed": false
   },
   "outputs": [],
   "source": [
    "start_time = time.time()\n",
    "rnd_spw2 = deemingPSD_fun(times = rnd_df['time'], obs = rnd_df['cst'], freqs = freqs2)\n",
    "print(\"--- %s seconds ---\" % (time.time() - start_time))\n",
    "\n",
    "start_time = time.time()\n",
    "rnd_psd21 = deemingPSD_fun(times = rnd_df['time'], obs = rnd_df['sin1'], freqs = freqs2)\n",
    "print(\"--- %s seconds ---\" % (time.time() - start_time))\n",
    "start_time = time.time()\n",
    "rnd_psd22 = deemingPSD_fun(times = rnd_df['time'], obs = rnd_df['sin2'], freqs = freqs2)\n",
    "print(\"--- %s seconds ---\" % (time.time() - start_time))"
   ]
  },
  {
   "cell_type": "code",
   "execution_count": null,
   "metadata": {
    "collapsed": false
   },
   "outputs": [],
   "source": [
    "fig = plt.figure(1)\n",
    "plt.subplots_adjust(left=0.05, bottom=0.05, right=0.95, top=0.95, wspace=None, hspace=0.35)\n",
    "\n",
    "ax1 = fig.add_subplot(311)\n",
    "plt.plot(freqs2, rnd_spw2, 'k', alpha=1)\n",
    "plt.title('90 days, sampling: randomized 4/d with 75% missing data \\n Spectral window')\n",
    "plt.xlabel('Frequency [1/d]')\n",
    "plt.ylabel('Spectral window')\n",
    "plt.margins(0.01, 0.05)\n",
    "#plt.vlines(F_freqs3, ymin = 0, ymax = 1, color='r', linestyle='solid')\n",
    "#plt.xlim(0.95,1.05)\n",
    "\n",
    "ax2 = fig.add_subplot(312)\n",
    "plt.plot(freqs2, rnd_psd22, 'k', alpha=1)\n",
    "plt.title('Sine at Fourier frequency')\n",
    "plt.xlabel('Frequency [1/d]')\n",
    "plt.ylabel('PSD')\n",
    "plt.margins(0.01, 0.05)\n",
    "#plt.vlines(F_freqs2, ymin = 0, ymax = 1, color='r', linestyle='solid')\n",
    "#plt.xlim(71./90.-.05, 71./90.+.05)\n",
    "#plt.ylim(0.,0.3)\n",
    "plt.axvline(71./90., ymin = 0, ymax = 1, color='c', linestyle='dashed')\n",
    "\n",
    "ax3 = fig.add_subplot(313)\n",
    "plt.plot(freqs2, rnd_psd21, 'k', alpha=1)\n",
    "plt.title('Sine, F = 0.2284')\n",
    "plt.xlabel('Frequency [1/d]')\n",
    "plt.ylabel('PSD')\n",
    "plt.margins(0.01, 0.05)\n",
    "#plt.vlines(F_freqs2, ymin = 0, ymax = 1, color='r', linestyle='solid')\n",
    "#plt.xlim(truefreq-.05, truefreq+.05)\n",
    "#plt.ylim(0.,0.3)\n",
    "plt.axvline(truefreq, ymin = 0, ymax = 1, color='c', linestyle='dashed')\n",
    "\n",
    "plt.show()"
   ]
  },
  {
   "cell_type": "code",
   "execution_count": null,
   "metadata": {
    "collapsed": true
   },
   "outputs": [],
   "source": [
    "half_df.index.values"
   ]
  },
  {
   "cell_type": "code",
   "execution_count": null,
   "metadata": {
    "collapsed": false
   },
   "outputs": [],
   "source": [
    "abs(2+2j)\n",
    "\n"
   ]
  },
  {
   "cell_type": "code",
   "execution_count": null,
   "metadata": {
    "collapsed": true
   },
   "outputs": [],
   "source": [
    "from astroML.time_series import lomb_scargle\n",
    "from scipy import fftpack"
   ]
  },
  {
   "cell_type": "markdown",
   "metadata": {},
   "source": [
    "Ex. 2. SPECTRAL ANALYSIS OF SOME VARIABLES\n",
    "\n",
    "2.1 A Cepheid and two eclipsing binaries from OGLE, quasar from LINEAR, the X-ray binary from Stéphane. Compute the periodograms for each. Compare.\n",
    "\n",
    "2.2 Multiterm periodogram applied for the same objects (maybe except for the XB). \n",
    "\n",
    "2.3 Pre-whitening and secondary period search applied for the period-changing Cepheid. "
   ]
  },
  {
   "cell_type": "code",
   "execution_count": null,
   "metadata": {
    "collapsed": true
   },
   "outputs": [],
   "source": [
    "cep1 = pd.read_csv(\"/Users/mariasuveges/Documents/presentations/Chicago/OGLE-LMC-CEP-0727.csv\")\n",
    "ecl1 = pd.read_csv(\"/Users/mariasuveges/Documents/presentations/Chicago/OGLE-SMC-ECL-0322.csv\")\n",
    "ecl2 = pd.read_csv(\"/Users/mariasuveges/Documents/presentations/Chicago/OGLE-SMC-ECL-0124.csv\")\n",
    "qso = pd.read_csv(\"/Users/mariasuveges/Documents/presentations/Chicago/q2803474.csv\")\n",
    "## Periods: \n",
    "p_cep1 = 14.4891397\n",
    "p_ecl1 = 71.6113338\n",
    "p_ecl2 = 0.3270255\n",
    "p_qso = 10**(-0.00138752348664116) "
   ]
  },
  {
   "cell_type": "code",
   "execution_count": null,
   "metadata": {
    "collapsed": false
   },
   "outputs": [],
   "source": [
    "## The resolution computed from the timespan of the observations:\n",
    "def fgrid_fun(times, ofac, fmax):\n",
    "    r_tmp = 1 / (times.max() - times.min()) / ofac \n",
    "    n_tmp = np.floor(fmax/r_tmp)\n",
    "    return np.linspace(r_tmp, fmax, n_tmp)"
   ]
  },
  {
   "cell_type": "code",
   "execution_count": null,
   "metadata": {
    "collapsed": false
   },
   "outputs": [],
   "source": [
    "# The frequency grids for each object \n",
    "fgrid_cep1 = fgrid_fun(cep1['time'], ofac = 10, fmax = 3) \n",
    "fgrid_ecl1 = fgrid_fun(ecl1['time'], ofac = 10, fmax = 3)\n",
    "fgrid_ecl2 = fgrid_fun(ecl2['time'], ofac = 10, fmax = 10)\n",
    "fgrid_qso = fgrid_fun(qso['time'], ofac = 10, fmax = 6)"
   ]
  },
  {
   "cell_type": "code",
   "execution_count": null,
   "metadata": {
    "collapsed": false
   },
   "outputs": [],
   "source": [
    "start_time = time.time()\n",
    "pgram_cep1 = lomb_scargle(t = cep1['time'], y = cep1['mag'], dy = cep1['mag.error'], omega = 2*np.pi*fgrid_cep1, generalized = True)\n",
    "pgram_ecl1 = lomb_scargle(t = ecl1['time'], y = ecl1['mag'], dy = ecl1['mag.error'], omega = 2*np.pi*fgrid_ecl1, generalized = True)\n",
    "pgram_ecl2 = lomb_scargle(t = ecl2['time'], y = ecl2['mag'], dy = ecl2['mag.error'], omega = 2*np.pi*fgrid_ecl2, generalized = True)\n",
    "pgram_qso = lomb_scargle(t = qso['time'], y = qso['mag'], dy = qso['mag.error'], omega = 2*np.pi*fgrid_qso, generalized = True)\n",
    "print(\"--- %s seconds ---\" % (time.time() - start_time))"
   ]
  },
  {
   "cell_type": "code",
   "execution_count": null,
   "metadata": {
    "collapsed": false
   },
   "outputs": [],
   "source": [
    "plt.rcParams[\"figure.figsize\"] = [16., 8.]\n",
    "fig = plt.figure(1)\n",
    "plt.subplots_adjust(left=0.05, bottom=0.05, right=0.95, top=0.95, wspace=None, hspace=0.35)\n",
    "\n",
    "fig.add_subplot(221)\n",
    "plt.plot(fgrid_cep1, pgram_cep1, 'k', alpha=1)\n",
    "plt.title('Cepheid')\n",
    "plt.xlabel('Frequency [1/d]')\n",
    "plt.ylabel('Periodogram')\n",
    "plt.margins(0.01, 0.05)\n",
    "plt.axvline(1/p_cep1, ymin = 0, ymax = 0.1, color='c', lw = 2)\n",
    "\n",
    "fig.add_subplot(222)\n",
    "plt.plot(fgrid_ecl1, pgram_ecl1, 'k', alpha=1)\n",
    "plt.title('Detached(?) binary')\n",
    "plt.xlabel('Frequency [1/d]')\n",
    "plt.ylabel('Periodogram')\n",
    "plt.margins(0.01, 0.05)\n",
    "plt.axvline(1/p_ecl1, ymin = 0, ymax = 0.1, color='c', lw = 2)\n",
    "\n",
    "fig.add_subplot(223)\n",
    "plt.plot(fgrid_ecl2, pgram_ecl2, 'k', alpha=1)\n",
    "plt.title('Contact binary')\n",
    "plt.xlabel('Frequency [1/d]')\n",
    "plt.ylabel('Periodogram')\n",
    "plt.margins(0.01, 0.05)\n",
    "plt.axvline(1/p_ecl2, ymin = 0, ymax = 0.1, color='c', lw = 2)\n",
    "\n",
    "fig.add_subplot(224)\n",
    "plt.plot(fgrid_qso, pgram_qso, 'k', alpha=1)\n",
    "plt.title('Quasar candidate')\n",
    "plt.xlabel('Frequency [1/d]')\n",
    "plt.ylabel('Periodogram')\n",
    "plt.margins(0.01, 0.05)\n",
    "plt.axvline(1/p_qso, ymin = 0, ymax = 0.1, color='c', lw = 2)\n",
    "\n",
    "plt.show()"
   ]
  },
  {
   "cell_type": "markdown",
   "metadata": {},
   "source": [
    "For the Cepheid, everything looks all right. For the quasar, the found frequency depended on the definition of the minimal frequency searched: here, the lowest frequency of the grid is the grid resolution, whereas with the pipeline that produced the results on the quasar, it was 1/timespan of observations (that is, oversampling factor times the grid resolution). The two eclipsing binaries exhibit the limitation of the generalized Lomb-Scargle method, when applied to light curves that are nonsinusoidal when folded by the period. The eclipsing binaries typically have two minima in one cycle, and thus, the GLS finds the double frequency (the half-period), which produces one single minimum in one cycle.\n",
    "\n",
    "Fold the light curves of the two eclipsing binaries to take a look. In the file, there is a column 'phase' giving the phases according to the catalog period, so we have to compute only those according to our period estimate. "
   ]
  },
  {
   "cell_type": "code",
   "execution_count": null,
   "metadata": {
    "collapsed": true
   },
   "outputs": [],
   "source": [
    "# Compute the period corresponding to the maximum of the periodogram:\n",
    "p_est_ecl1 = 1 / fgrid_ecl1[pgram_ecl1 == pgram_ecl1.max()]\n",
    "p_est_ecl2 = 1 / fgrid_ecl2[pgram_ecl2 == pgram_ecl2.max()]"
   ]
  },
  {
   "cell_type": "code",
   "execution_count": null,
   "metadata": {
    "collapsed": false
   },
   "outputs": [],
   "source": [
    "# Check that it is indeed roughly the half of the catalog period:\n",
    "print p_est_ecl1 *2\n",
    "print p_ecl1"
   ]
  },
  {
   "cell_type": "code",
   "execution_count": null,
   "metadata": {
    "collapsed": false
   },
   "outputs": [],
   "source": [
    "# Compute  the phases and add them as column to the dataframes:\n",
    "ecl1['phase2'] = (ecl1['time'] % p_est_ecl1) / p_est_ecl1\n",
    "ecl2['phase2'] = (ecl2['time'] % p_est_ecl2) / p_est_ecl2"
   ]
  },
  {
   "cell_type": "code",
   "execution_count": null,
   "metadata": {
    "collapsed": false
   },
   "outputs": [],
   "source": [
    "plt.rcParams[\"figure.figsize\"] = [12., 8.]\n",
    "fig = plt.figure()\n",
    "plt.subplots_adjust(left=0.05, bottom=0.1, right=0.95, top=0.95, wspace=None, hspace=0.35)\n",
    "\n",
    "ax = fig.add_subplot(221)\n",
    "plt.gca().invert_yaxis()\n",
    "ax.errorbar(ecl1['phase2'], ecl1['mag'], ecl1['mag.error'], fmt='.k', ecolor='gray')\n",
    "plt.title(\"ecl1, GLS period\")\n",
    "plt.xlabel('Phase')\n",
    "plt.ylabel('Magnitude')\n",
    "\n",
    "ax = fig.add_subplot(222)\n",
    "plt.gca().invert_yaxis()\n",
    "ax.errorbar(ecl1['phase'], ecl1['mag'], ecl1['mag.error'], fmt='.k', ecolor='gray')\n",
    "plt.title(\"ecl1, catalog period\")\n",
    "plt.xlabel('Phase')\n",
    "plt.ylabel('Magnitude')\n",
    "\n",
    "ax = fig.add_subplot(223)\n",
    "plt.gca().invert_yaxis()\n",
    "ax.errorbar(ecl2['phase2'], ecl2['mag'], ecl2['mag.error'], fmt='.k', ecolor='gray')\n",
    "plt.title(\"ecl2, GLS period\")\n",
    "plt.xlabel('Phase')\n",
    "plt.ylabel('Magnitude')\n",
    "\n",
    "ax = fig.add_subplot(224)\n",
    "plt.gca().invert_yaxis()\n",
    "ax.errorbar(ecl2['phase'], ecl2['mag'], ecl2['mag.error'], fmt='.k', ecolor='gray')\n",
    "plt.title(\"ecl2, catalog period\")\n",
    "plt.xlabel('Phase')\n",
    "plt.ylabel('Magnitude')\n",
    "\n",
    "plt.show()\n"
   ]
  },
  {
   "cell_type": "markdown",
   "metadata": {},
   "source": [
    "EX. 2, cont:\n",
    "2.2 Multiterm periodogram applied for the same objects (maybe except for the XB). "
   ]
  },
  {
   "cell_type": "code",
   "execution_count": null,
   "metadata": {
    "collapsed": true
   },
   "outputs": [],
   "source": [
    "from astroML.time_series import multiterm_periodogram"
   ]
  },
  {
   "cell_type": "code",
   "execution_count": null,
   "metadata": {
    "collapsed": false
   },
   "outputs": [],
   "source": [
    "fgrid_short_ecl1 = fgrid_ecl1[fgrid_ecl1 < 4.]\n",
    "fgrid_short_ecl2 = fgrid_ecl2[(fgrid_ecl2 < 8.)]"
   ]
  },
  {
   "cell_type": "code",
   "execution_count": null,
   "metadata": {
    "collapsed": false
   },
   "outputs": [],
   "source": [
    "start_time = time.time()\n",
    "pgram6_ecl1 = multiterm_periodogram(t = ecl1['time'], y = ecl1['mag'], dy = ecl1['mag.error'], omega = 2*np.pi*fgrid_short_ecl1, n_terms = 6)\n",
    "print(\"--- %s seconds ---\" % (time.time() - start_time))\n",
    "start_time = time.time()\n",
    "pgram6_ecl2 = multiterm_periodogram(t = ecl2['time'], y = ecl2['mag'], dy = ecl2['mag.error'], omega = 2*np.pi*fgrid_short_ecl2, n_terms = 6)\n",
    "print(\"--- %s seconds ---\" % (time.time() - start_time))"
   ]
  },
  {
   "cell_type": "code",
   "execution_count": null,
   "metadata": {
    "collapsed": false
   },
   "outputs": [],
   "source": [
    "p_est6_ecl2 = 1 / fgrid_short_ecl2[pgram6_ecl2 == pgram6_ecl2.max()]\n",
    "print p_est6_ecl2\n",
    "print p_est_ecl2"
   ]
  },
  {
   "cell_type": "code",
   "execution_count": null,
   "metadata": {
    "collapsed": false
   },
   "outputs": [],
   "source": [
    "plt.rcParams[\"figure.figsize\"] = [12., 8.]\n",
    "fig = plt.figure(1)\n",
    "plt.subplots_adjust(left=0.05, bottom=0.05, right=0.95, top=0.95, wspace=None, hspace=0.35)\n",
    "\n",
    "fig.add_subplot(211)\n",
    "plt.plot(fgrid_ecl1, pgram_ecl1, 'k', alpha=1, label = \"1 term\")\n",
    "plt.plot(fgrid_short_ecl1, pgram6_ecl1, 'r', alpha=1, linestyle = \"dashed\", label = \"6 terms\")\n",
    "plt.title('Detached(?) binary')\n",
    "plt.xlabel('Frequency [1/d]')\n",
    "plt.ylabel('Periodogram')\n",
    "plt.margins(0.01, 0.05)\n",
    "plt.xlim(-0.1,4.)\n",
    "plt.axvline(1/p_ecl1, ymin = 0, ymax = 0.1, color='c', lw = 2)\n",
    "plt.legend(loc = \"best\")\n",
    "\n",
    "fig.add_subplot(212)\n",
    "plt.plot(fgrid_ecl2, pgram_ecl2, 'k', alpha=1, label = \"1 term\")\n",
    "plt.plot(fgrid_short_ecl2, pgram6_ecl2, 'r', alpha=1, linestyle = \"dashed\", label = \"6 terms\")\n",
    "plt.title('Contact binary')\n",
    "plt.xlabel('Frequency [1/d]')\n",
    "plt.ylabel('Periodogram')\n",
    "plt.margins(0.01, 0.05)\n",
    "plt.xlim(-0.1,8.)\n",
    "plt.axvline(1/p_ecl2, ymin = 0, ymax = 0.1, color='c', lw = 2)\n",
    "plt.legend(loc = \"best\")\n",
    "\n",
    "plt.show()"
   ]
  },
  {
   "cell_type": "markdown",
   "metadata": {},
   "source": [
    "2.3 Pre-whitening and secondary period search applied for the period-changing Cepheid. "
   ]
  },
  {
   "cell_type": "code",
   "execution_count": null,
   "metadata": {
    "collapsed": false
   },
   "outputs": [],
   "source": [
    "import statsmodels.formula.api as smf\n",
    "import string"
   ]
  },
  {
   "cell_type": "code",
   "execution_count": null,
   "metadata": {
    "collapsed": true
   },
   "outputs": [],
   "source": [
    "cep2 = pd.read_csv(\"/Users/mariasuveges/Documents/presentations/Chicago/OGLE-SMC-CEP-0387.csv\")\n",
    "p_cep2 = 13.0905747"
   ]
  },
  {
   "cell_type": "code",
   "execution_count": null,
   "metadata": {
    "collapsed": false
   },
   "outputs": [],
   "source": [
    "cep3 = pd.read_csv(\"/Users/mariasuveges/Documents/presentations/Chicago/OGLE-SMC-CEP-1211.csv\")\n",
    "p_cep3 = 9.5311467"
   ]
  },
  {
   "cell_type": "code",
   "execution_count": null,
   "metadata": {
    "collapsed": false,
    "scrolled": true
   },
   "outputs": [],
   "source": [
    "for jj in np.arange(10):\n",
    "    cep2['s'+str(jj+1)] = np.sin(2*np.pi*cep2['time']*(jj+1)/p_cep2)\n",
    "    cep2['c'+str(jj+1)] = np.cos(2*np.pi*cep2['time']*(jj+1)/p_cep2)"
   ]
  },
  {
   "cell_type": "code",
   "execution_count": null,
   "metadata": {
    "collapsed": false
   },
   "outputs": [],
   "source": [
    "bic_cep2 = np.zeros(10)\n",
    "for jj in np.arange(10):\n",
    "    # We first create the formula string that the least squares fit takes as input\n",
    "    # (check the string that is created eg. by adding print formula_tmp):\n",
    "    formula_tmp = 'mag ~ ' + string.join(cep2.columns[4:(2*(jj+1)+4)], sep = '+')\n",
    "    # ... then fit the models and extract the BIC to decide which model is the best:\n",
    "    bic_cep2[jj] = smf.ols(formula_tmp, data = cep2).fit().bic"
   ]
  },
  {
   "cell_type": "code",
   "execution_count": null,
   "metadata": {
    "collapsed": false
   },
   "outputs": [],
   "source": [
    "bic_cep2"
   ]
  },
  {
   "cell_type": "code",
   "execution_count": null,
   "metadata": {
    "collapsed": true
   },
   "outputs": [],
   "source": [
    "formula_tmp = 'mag ~ ' + string.join(cep2.columns[4:(2*(4+1)+4)], sep = '+')\n",
    "cep2['resid'] = smf.ols(formula_tmp, data = cep2).fit().resid"
   ]
  },
  {
   "cell_type": "code",
   "execution_count": null,
   "metadata": {
    "collapsed": false
   },
   "outputs": [],
   "source": [
    "cep2[0:10][['time','mag','mag.error','resid']]"
   ]
  },
  {
   "cell_type": "code",
   "execution_count": null,
   "metadata": {
    "collapsed": false
   },
   "outputs": [],
   "source": [
    "fgrid_cep2 = fgrid_fun(cep2['time'], ofac = 10, fmax = 10) \n",
    "start_time = time.time()\n",
    "pgram_resid_cep2 = lomb_scargle(t = cep2['time'], y = cep2['resid'], dy = cep2['mag.error'], omega = 2*np.pi*fgrid_cep2, generalized = True)\n",
    "print(\"--- %s seconds ---\" % (time.time() - start_time))"
   ]
  },
  {
   "cell_type": "code",
   "execution_count": null,
   "metadata": {
    "collapsed": false
   },
   "outputs": [],
   "source": [
    "plt.rcParams[\"figure.figsize\"] = [12., 4.]\n",
    "fig = plt.figure(1)\n",
    "plt.subplots_adjust(left=0.05, bottom=0.05, right=0.95, top=0.95, wspace=None, hspace=None)\n",
    "\n",
    "plt.plot(fgrid_cep2, pgram_resid_cep2, 'k', alpha=1)\n",
    "plt.title('Cepheid 2')\n",
    "plt.xlabel('Frequency [1/d]')\n",
    "plt.ylabel('Periodogram')\n",
    "plt.margins(0.01, 0.05)\n",
    "plt.axvline(1/p_cep2, ymin = 0, ymax = 1, color='c', lw = 2, linestyle = \"dashed\")\n",
    "\n",
    "plt.show()"
   ]
  },
  {
   "cell_type": "markdown",
   "metadata": {},
   "source": [
    "Ex. . TIME-RESOLVED ANALYSIS\n",
    "\n",
    "3.1 Do a fast time-resolved analysis of a (period-changing) Cepheid in an interval around its average frequency, and represent it as a color map (time & frequency) (in frequency: between 0.065-0.08, using a window). Do the same with the X-ray binary, using fft from the fftpack.\n",
    "\n",
    "3.2 How would you create a generalization of the wavelet analysis for uneven sampling? The obvious ideas are what corresponds to the Deeming method and what corresponds to the least squares method. Try to implement the first. Simulate an atom as signal.\n",
    "\n",
    "(a) Sample it at regular times, and compute its wavelet transform with several Q parameters (not necessarily with what you used in the simulation). \n",
    "\n",
    "(b) Sample it now at uneven times. How the naively generalized procedure performs? Compare the wavelet spectra.\n",
    "\n",
    "(c) Look at the Cepheid spectrum with it. Compare with the time-resolved Deeming spectrum from 3.1. \n",
    "\n",
    "3.2 Consider the extension of the matching pursuit algorithm for the unevenly sampled case. What is the obvious idea for the extension? How would you help yourself (based on the previous result) if you do not want to do blind search in a 4-dimensional space of millions of Gabor atoms (Morlet wavelets)? Try to implement this. "
   ]
  },
  {
   "cell_type": "code",
   "execution_count": null,
   "metadata": {
    "collapsed": false
   },
   "outputs": [],
   "source": [
    "print cep3.shape\n",
    "print cep3['time'].max()  \n",
    "print cep3['time'].min()"
   ]
  },
  {
   "cell_type": "code",
   "execution_count": null,
   "metadata": {
    "collapsed": true
   },
   "outputs": [],
   "source": [
    "centers_tmp = np.linspace(470, 4950, num = 449)\n",
    "print centers_tmp"
   ]
  },
  {
   "cell_type": "code",
   "execution_count": null,
   "metadata": {
    "collapsed": true
   },
   "outputs": [],
   "source": [
    "import time"
   ]
  },
  {
   "cell_type": "code",
   "execution_count": null,
   "metadata": {
    "collapsed": false
   },
   "outputs": [],
   "source": [
    "fgrid_short_cep3 = np.linspace(0.1, 0.11, 4000)\n",
    "trsvd_cep3 = np.zeros([len(fgrid_short_cep3), len(centers_tmp)])\n",
    "for ii in np.arange(0,len(centers_tmp)):\n",
    "#ii = 200\n",
    "    df = cep3[(cep3['time'] < centers_tmp[ii] + 365) & (cep3['time'] > centers_tmp[ii] - 365)]\n",
    "    #start_time = time.time()\n",
    "    trsvd_cep3[:,ii] = lomb_scargle(t = df['time'], y = df['mag'], dy = df['mag.error'], omega = 2*np.pi*fgrid_short_cep3, generalized = True)\n",
    "    #print(\"--- %s seconds ---\" % (time.time() - start_time))"
   ]
  },
  {
   "cell_type": "code",
   "execution_count": null,
   "metadata": {
    "collapsed": false
   },
   "outputs": [],
   "source": [
    "bestfr_vs_time = np.zeros(len(centers_tmp))\n",
    "for jj in np.arange(len(centers_tmp)):\n",
    "    bestfr_vs_time[jj] = fgrid_short_cep3[trsvd_cep3[:,jj] == trsvd_cep3[:,jj].max()]"
   ]
  },
  {
   "cell_type": "code",
   "execution_count": null,
   "metadata": {
    "collapsed": false
   },
   "outputs": [],
   "source": [
    "print bestfr_vs_time.min()\n",
    "print bestfr_vs_time.max()"
   ]
  },
  {
   "cell_type": "code",
   "execution_count": null,
   "metadata": {
    "collapsed": true
   },
   "outputs": [],
   "source": [
    "trsvd_cep3"
   ]
  },
  {
   "cell_type": "code",
   "execution_count": null,
   "metadata": {
    "collapsed": false
   },
   "outputs": [],
   "source": [
    "plt.rcParams[\"figure.figsize\"] = [8., 8.]\n",
    "fig = plt.figure()\n",
    "#plt.subplots_adjust(left=0.05, bottom=0.05, right=0.95, top=0.95, wspace=None, hspace=None)\n",
    "\n",
    "plt.imshow(trsvd_cep3, origin = 'lower', aspect = 'auto', \n",
    "           extent = [centers_tmp[0], centers_tmp[-1], fgrid_short_cep3[0], fgrid_short_cep3[-1]])\n",
    "plt.title('Cepheid 3')\n",
    "plt.ylabel('Frequency [1/d]')\n",
    "plt.xlabel('Time [d]')\n",
    "plt.margins(0.01, 0.05)\n",
    "plt.axhline(1/p_cep3, xmin = 0, xmax = 1, color='w')\n",
    "plt.plot(cep3['time'], [0.1]*len(cep3['time']), '|', color='k')\n",
    "plt.plot(centers_tmp, bestfr_vs_time, 'k')\n",
    "\n",
    "plt.show()"
   ]
  },
  {
   "cell_type": "code",
   "execution_count": null,
   "metadata": {
    "collapsed": true
   },
   "outputs": [],
   "source": [
    "from scipy import fftpack\n",
    "from matplotlib.mlab import specgram\n",
    "from astroML.fourier import wavelet_PSD"
   ]
  },
  {
   "cell_type": "code",
   "execution_count": null,
   "metadata": {
    "collapsed": true
   },
   "outputs": [],
   "source": [
    "import time"
   ]
  },
  {
   "cell_type": "code",
   "execution_count": null,
   "metadata": {
    "collapsed": false
   },
   "outputs": [],
   "source": [
    "start_time = time.time()\n",
    "qpo = pd.read_csv(\"/Users/mariasuveges/Documents/presentations/Chicago/qpo.csv\")\n",
    "print(\"--- %s seconds ---\" % (time.time() - start_time))"
   ]
  },
  {
   "cell_type": "code",
   "execution_count": null,
   "metadata": {
    "collapsed": false
   },
   "outputs": [],
   "source": [
    "qpo[0:10]"
   ]
  },
  {
   "cell_type": "code",
   "execution_count": null,
   "metadata": {
    "collapsed": false
   },
   "outputs": [],
   "source": [
    "# The values are photon counts in 2**(-11) s long intervals.\n",
    "dt = 2**(-11)\n",
    "# The times of the flux values thus:\n",
    "times = np.arange(0, np.shape(qpo)[0]*dt, dt, dtype = float)\n",
    "#qpo_slices = np.linspace(qpo['t'].min(), qpo['t'].max(), 400)\n",
    "# We wish to compute the PSD in 8 s long windows. The time limits for selection:\n",
    "qpo_slices = np.arange(0, 426*8, 8, dtype = float) \n",
    "# The centers of the slices (for plotting):\n",
    "center_times = np.arange(0, 425*8, 8, dtype = float)+4"
   ]
  },
  {
   "cell_type": "code",
   "execution_count": null,
   "metadata": {
    "collapsed": false
   },
   "outputs": [],
   "source": [
    "# Spacing of the Fourier frequencies in a 8 s window:\n",
    "df = 1. / 8\n",
    "# the Fourier frequencies:\n",
    "ffreqs = df * np.arange(16384)"
   ]
  },
  {
   "cell_type": "code",
   "execution_count": null,
   "metadata": {
    "collapsed": false
   },
   "outputs": [],
   "source": [
    "2**(-11)\n",
    "print np.shape(qpo)[0]\n",
    "print len(times)\n",
    "print center_times.max()\n",
    "print times.max()\n",
    "print qpo_slices.max()\n",
    "print len(center_times)\n",
    "print ffreqs"
   ]
  },
  {
   "cell_type": "code",
   "execution_count": null,
   "metadata": {
    "collapsed": false
   },
   "outputs": [],
   "source": [
    "psd_signal = np.zeros(shape = (425, 16384))\n",
    "ii = 0\n",
    "cond = ((times > qpo_slices[ii]) & (times <= qpo_slices[ii+1]))\n",
    "signal = qpo.loc[cond, 'flux']\n",
    "psd_signal[ii,:] = abs(dt*fftpack.fft(signal - np.mean(signal))) \n",
    "\n",
    "print len(psd_signal)\n",
    "print psd_signal[0, 0:20]\n",
    "print psd_signal[0:2, 0:20]"
   ]
  },
  {
   "cell_type": "code",
   "execution_count": null,
   "metadata": {
    "collapsed": false
   },
   "outputs": [],
   "source": [
    "psd_signal = np.zeros(shape = (425, 16384))\n",
    "for ii in np.arange(len(qpo_slices)-1):\n",
    "    cond = ((times > qpo_slices[ii]) & (times <= qpo_slices[ii+1]))\n",
    "    signal = qpo.loc[cond, 'flux']\n",
    "    psd_signal[ii,:] = abs(dt*fftpack.fft(signal - np.mean(signal))) "
   ]
  },
  {
   "cell_type": "code",
   "execution_count": null,
   "metadata": {
    "collapsed": false
   },
   "outputs": [],
   "source": [
    "print psd_signal\n",
    "print psd_signal.max()"
   ]
  },
  {
   "cell_type": "code",
   "execution_count": null,
   "metadata": {
    "collapsed": false
   },
   "outputs": [],
   "source": [
    "plt.rcParams[\"figure.figsize\"] = [16., 8.]\n",
    "fig = plt.figure(1)\n",
    "\n",
    "plt.plot(ffreqs, psd_signal[20,:], 'k', alpha=1)\n",
    "plt.xlabel('Frequency [Hz]')\n",
    "plt.ylabel('PSD')\n",
    "plt.margins(0.01, 0.05)\n",
    "#plt.xlim(-0.1,4.)\n",
    "\n",
    "plt.show()"
   ]
  },
  {
   "cell_type": "code",
   "execution_count": null,
   "metadata": {
    "collapsed": false
   },
   "outputs": [],
   "source": [
    "psd_specgram, freqs_specgram, centers_specgram = specgram(qpo['flux'],\n",
    "            NFFT = 16384, Fs=2**11, noverlap=16384/2)"
   ]
  },
  {
   "cell_type": "code",
   "execution_count": null,
   "metadata": {
    "collapsed": false
   },
   "outputs": [],
   "source": [
    "plt.rcParams[\"figure.figsize\"] = [16., 8.]\n",
    "fig = plt.figure(1)\n",
    "\n",
    "plt.plot(freqs_specgram[10:], psd_specgram[10:,40], 'k', alpha=1)\n",
    "plt.xlabel('Frequency [Hz]')\n",
    "plt.ylabel('PSD')\n",
    "plt.margins(0.01, 0.05)\n",
    "#plt.xlim(-0.1,4.)\n",
    "\n",
    "plt.show()"
   ]
  },
  {
   "cell_type": "code",
   "execution_count": null,
   "metadata": {
    "collapsed": false
   },
   "outputs": [],
   "source": [
    "from scipy import ndimage "
   ]
  },
  {
   "cell_type": "code",
   "execution_count": null,
   "metadata": {
    "collapsed": false
   },
   "outputs": [],
   "source": [
    "psd_specgram_smoo = ndimage.filters.gaussian_filter(psd_specgram, [8,8], mode='constant', cval = 0)"
   ]
  },
  {
   "cell_type": "code",
   "execution_count": null,
   "metadata": {
    "collapsed": true
   },
   "outputs": [],
   "source": [
    "plt.rcParams[\"figure.figsize\"] = [16., 8.]\n",
    "fig = plt.figure(1)\n",
    "\n",
    "plt.plot(freqs_specgram[40:], psd_specgram_smoo[40:,50], 'k', alpha=1)\n",
    "plt.xlabel('Frequency [Hz]')\n",
    "plt.ylabel('PSD')\n",
    "plt.margins(0.01, 0.05)\n",
    "#plt.xlim(-0.1,4.)\n",
    "\n",
    "plt.show()"
   ]
  },
  {
   "cell_type": "code",
   "execution_count": null,
   "metadata": {
    "collapsed": false
   },
   "outputs": [],
   "source": [
    "plt.rcParams[\"figure.figsize\"] = [16., 8.]\n",
    "fig = plt.figure()\n",
    "plt.subplots_adjust(left=0.05, bottom=0.05, right=0.95, top=0.95, wspace=None, hspace=0.35)\n",
    "\n",
    "fig.add_subplot(121)\n",
    "plt.imshow(psd_specgram[20:,:], origin = 'lower', aspect = 'auto', \n",
    "           extent = [centers_specgram[0], centers_specgram[-1], freqs_specgram[20], freqs_specgram[-1]])\n",
    "plt.title('Raw PSD')\n",
    "plt.ylabel('Frequency [Hz]')\n",
    "plt.xlabel('Time [s]')\n",
    "plt.margins(0.01, 0.05)\n",
    "\n",
    "fig.add_subplot(122)\n",
    "plt.imshow(psd_specgram_smoo[40:,:], origin = 'lower', aspect = 'auto', \n",
    "           extent = [centers_specgram[0], centers_specgram[-1], freqs_specgram[40], freqs_specgram[-1]])\n",
    "plt.title('Smoothed PSD')\n",
    "plt.ylabel('Frequency [Hz]')\n",
    "plt.xlabel('Time [s]')\n",
    "plt.margins(0.01, 0.05)\n",
    "\n",
    "plt.show()"
   ]
  },
  {
   "cell_type": "code",
   "execution_count": null,
   "metadata": {
    "collapsed": false
   },
   "outputs": [],
   "source": [
    "wavelet_PSD?"
   ]
  },
  {
   "cell_type": "code",
   "execution_count": null,
   "metadata": {
    "collapsed": false
   },
   "outputs": [],
   "source": [
    "freq_wavelet = np.arange(800,900, 0.25)\n",
    "start_time = time.time()\n",
    "qpo_waveletpsd = wavelet_PSD(t = times[0:200000], h = qpo['flux'][0:200000], \n",
    "           f0 = freq_wavelet, Q = 500)\n",
    "print(\"--- %s seconds ---\" % (time.time() - start_time))"
   ]
  },
  {
   "cell_type": "code",
   "execution_count": null,
   "metadata": {
    "collapsed": true
   },
   "outputs": [],
   "source": [
    "plt.rcParams[\"figure.figsize\"] = [8., 8.]\n",
    "fig = plt.figure(1)\n",
    "\n",
    "plt.imshow(qpo_waveletpsd, origin = 'lower', aspect = 'auto', \n",
    "           extent = [times[0], times[200000], freq_wavelet[0], freq_wavelet[-1]])\n",
    "plt.title('Wavelet PSD')\n",
    "plt.ylabel('Frequency [Hz]')\n",
    "plt.xlabel('Time [s]')\n",
    "plt.margins(0.01, 0.05)\n",
    "\n",
    "plt.show()\n",
    "# Q = 1: just vertical lines. At each time, WPSD is constant with frequency\n",
    "# Q = 5: similar\n",
    "# Q = 20: one red vertical line around f = 840, t = 20\n",
    "# Q = 30: similar to 20\n",
    "# Q = 40: similar to 20\n",
    "# Q = 60: similar to 20, further very weak local pinks and oranges turn up as well\n",
    "# Q = 90,120: similar to 60, a weak impression of a band turns up (somewhat whiter on average than the general level)\n",
    "# Q = 150, 200: the stripes of higher \"energy\" are visibly less stretched in the f direction, the band is still there"
   ]
  },
  {
   "cell_type": "code",
   "execution_count": null,
   "metadata": {
    "collapsed": false
   },
   "outputs": [],
   "source": [
    "qpo_wavelet_smoo = ndimage.filters.gaussian_filter(qpo_waveletpsd, [2,1024], mode='constant', cval = 0)"
   ]
  },
  {
   "cell_type": "code",
   "execution_count": null,
   "metadata": {
    "collapsed": false
   },
   "outputs": [],
   "source": [
    "plt.rcParams[\"figure.figsize\"] = [16., 8.]\n",
    "fig = plt.figure()\n",
    "plt.subplots_adjust(left=0.05, bottom=0.05, right=0.95, top=0.95, wspace=None, hspace=0.35)\n",
    "\n",
    "fig.add_subplot(121)\n",
    "plt.imshow(qpo_waveletpsd, origin = 'lower', aspect = 'auto', \n",
    "           extent = [times[0], times[200000], freq_wavelet[0], freq_wavelet[-1]])\n",
    "plt.title('Raw wavelet PSD')\n",
    "plt.ylabel('Frequency [Hz]')\n",
    "plt.xlabel('Time [s]')\n",
    "plt.margins(0.01, 0.05)\n",
    "\n",
    "fig.add_subplot(122)\n",
    "plt.imshow(qpo_wavelet_smoo, origin = 'lower', aspect = 'auto', \n",
    "           extent = [times[0], times[200000], freq_wavelet[0], freq_wavelet[-1]])\n",
    "plt.title('Smoothed wavelet PSD')\n",
    "plt.ylabel('Frequency [Hz]')\n",
    "plt.xlabel('Time [s]')\n",
    "plt.margins(0.01, 0.05)\n",
    "\n",
    "plt.show()\n"
   ]
  },
  {
   "cell_type": "markdown",
   "metadata": {},
   "source": [
    "Ex. 5. GAUSSIAN PROCESSES"
   ]
  },
  {
   "cell_type": "code",
   "execution_count": 2,
   "metadata": {
    "collapsed": true
   },
   "outputs": [],
   "source": [
    "from sklearn.gaussian_process import GaussianProcess\n",
    "#from scipy.stats import multivariate_normal\n",
    "#import statsmodels.api as sm"
   ]
  },
  {
   "cell_type": "code",
   "execution_count": 3,
   "metadata": {
    "collapsed": false
   },
   "outputs": [
    {
     "data": {
      "text/html": [
       "<div>\n",
       "<table border=\"1\" class=\"dataframe\">\n",
       "  <thead>\n",
       "    <tr style=\"text-align: right;\">\n",
       "      <th></th>\n",
       "      <th>time</th>\n",
       "      <th>mag</th>\n",
       "      <th>mag.error</th>\n",
       "      <th>phase</th>\n",
       "      <th>t0</th>\n",
       "    </tr>\n",
       "  </thead>\n",
       "  <tbody>\n",
       "    <tr>\n",
       "      <th>1</th>\n",
       "      <td>52614.455676</td>\n",
       "      <td>16.909</td>\n",
       "      <td>0.218</td>\n",
       "      <td>0.821934</td>\n",
       "      <td>0.000022</td>\n",
       "    </tr>\n",
       "    <tr>\n",
       "      <th>2</th>\n",
       "      <td>52614.470258</td>\n",
       "      <td>16.888</td>\n",
       "      <td>0.188</td>\n",
       "      <td>0.836563</td>\n",
       "      <td>0.000045</td>\n",
       "    </tr>\n",
       "    <tr>\n",
       "      <th>3</th>\n",
       "      <td>52614.484710</td>\n",
       "      <td>17.204</td>\n",
       "      <td>0.147</td>\n",
       "      <td>0.851061</td>\n",
       "      <td>0.000067</td>\n",
       "    </tr>\n",
       "    <tr>\n",
       "      <th>4</th>\n",
       "      <td>52614.499167</td>\n",
       "      <td>16.948</td>\n",
       "      <td>0.094</td>\n",
       "      <td>0.865564</td>\n",
       "      <td>0.000089</td>\n",
       "    </tr>\n",
       "    <tr>\n",
       "      <th>5</th>\n",
       "      <td>52639.474467</td>\n",
       "      <td>17.139</td>\n",
       "      <td>0.096</td>\n",
       "      <td>0.920785</td>\n",
       "      <td>0.038467</td>\n",
       "    </tr>\n",
       "    <tr>\n",
       "      <th>6</th>\n",
       "      <td>52639.489376</td>\n",
       "      <td>17.305</td>\n",
       "      <td>0.114</td>\n",
       "      <td>0.935742</td>\n",
       "      <td>0.038490</td>\n",
       "    </tr>\n",
       "    <tr>\n",
       "      <th>7</th>\n",
       "      <td>52639.504193</td>\n",
       "      <td>17.058</td>\n",
       "      <td>0.087</td>\n",
       "      <td>0.950606</td>\n",
       "      <td>0.038513</td>\n",
       "    </tr>\n",
       "    <tr>\n",
       "      <th>8</th>\n",
       "      <td>52639.520292</td>\n",
       "      <td>17.082</td>\n",
       "      <td>0.092</td>\n",
       "      <td>0.966757</td>\n",
       "      <td>0.038538</td>\n",
       "    </tr>\n",
       "    <tr>\n",
       "      <th>9</th>\n",
       "      <td>52646.408548</td>\n",
       "      <td>16.921</td>\n",
       "      <td>0.097</td>\n",
       "      <td>0.877055</td>\n",
       "      <td>0.049122</td>\n",
       "    </tr>\n",
       "  </tbody>\n",
       "</table>\n",
       "</div>"
      ],
      "text/plain": [
       "           time     mag  mag.error     phase        t0\n",
       "1  52614.455676  16.909      0.218  0.821934  0.000022\n",
       "2  52614.470258  16.888      0.188  0.836563  0.000045\n",
       "3  52614.484710  17.204      0.147  0.851061  0.000067\n",
       "4  52614.499167  16.948      0.094  0.865564  0.000089\n",
       "5  52639.474467  17.139      0.096  0.920785  0.038467\n",
       "6  52639.489376  17.305      0.114  0.935742  0.038490\n",
       "7  52639.504193  17.058      0.087  0.950606  0.038513\n",
       "8  52639.520292  17.082      0.092  0.966757  0.038538\n",
       "9  52646.408548  16.921      0.097  0.877055  0.049122"
      ]
     },
     "execution_count": 3,
     "metadata": {},
     "output_type": "execute_result"
    }
   ],
   "source": [
    "qso = pd.read_csv(\"/Users/mariasuveges/Documents/presentations/Chicago/q2803474.csv\")\n",
    "qso['t0'] = (qso['time'] - np.min(qso['time'])) / np.std(qso['time'])\n",
    "qso[1:10]\n",
    "#np.shape(qso)"
   ]
  },
  {
   "cell_type": "code",
   "execution_count": 4,
   "metadata": {
    "collapsed": true
   },
   "outputs": [],
   "source": [
    "## Define the three kernel functions we'll use:\n",
    "def exponential(x1, x2, h):\n",
    "    return np.exp(-0.5 * np.abs(x1 - x2) / h)\n",
    "def squared_exponential(x1, x2, h):\n",
    "    return np.exp(-0.5 * (x1 - x2) ** 2 / h ** 2)\n",
    "def quasi_periodic(x1, x2, h, l, nu):\n",
    "    return np.exp(-0.5 * (x1 - x2) ** 2 / h ** 2 - 0.5 * np.sin(2*np.pi*nu*(x1 - x2)) ** 2 / l)"
   ]
  },
  {
   "cell_type": "code",
   "execution_count": 5,
   "metadata": {
    "collapsed": true
   },
   "outputs": [],
   "source": [
    "x = np.linspace(52610, 54625, 115)\n",
    "h = 50.0\n",
    "l = 10\n",
    "nu = 0.001\n",
    "\n",
    "mu = np.zeros(len(x))\n",
    "\n",
    "Cse = squared_exponential(x, x[:, None], h)\n",
    "Ce = exponential(x, x[:, None], h)\n",
    "Cq = quasi_periodic(x, x[:, None], h = h, l = l, nu = nu)"
   ]
  },
  {
   "cell_type": "code",
   "execution_count": 6,
   "metadata": {
    "collapsed": false
   },
   "outputs": [],
   "source": [
    "qper_rdvar = np.random.multivariate_normal(mu, Cq, 3)\n",
    "ex_rdvar = np.random.multivariate_normal(mu, Ce, 3)\n",
    "sqex_rdvar = np.random.multivariate_normal(mu, Cse, 3)\n",
    "#sqex_rdvar = multivariate_normal.rvs(mu, Cse, 3)"
   ]
  },
  {
   "cell_type": "code",
   "execution_count": 9,
   "metadata": {
    "collapsed": false
   },
   "outputs": [],
   "source": [
    "plt.rcParams[\"figure.figsize\"] = [5., 10.]\n",
    "fig = plt.figure(1)\n",
    "plt.subplots_adjust(left=0.07, bottom=0.05, right=0.95, top=0.95, wspace=None, hspace=0.35)\n",
    "\n",
    "fig.add_subplot(311)\n",
    "for ii in [0,1,2]:\n",
    "    plt.plot(x, ex_rdvar[ii], 'k', alpha=1)\n",
    "plt.title('Exponential')\n",
    "plt.xlabel('x')\n",
    "plt.ylabel('GP draw')\n",
    "plt.margins(0.01, 0.05)\n",
    "\n",
    "fig.add_subplot(312)\n",
    "for ii in [0,1,2]:\n",
    "    plt.plot(x, sqex_rdvar[ii], 'k', alpha=1)\n",
    "plt.title('Squared exponential')\n",
    "plt.xlabel('x')\n",
    "plt.ylabel('GP draw')\n",
    "plt.margins(0.01, 0.05)\n",
    "#plt.xlim(-0.1,4.)\n",
    "\n",
    "fig.add_subplot(313)\n",
    "for ii in [0,1,2]:\n",
    "    plt.plot(x, qper_rdvar[ii], 'k', alpha=1)\n",
    "plt.title('Quasi-periodic')\n",
    "plt.xlabel('x')\n",
    "plt.ylabel('GP draw')\n",
    "plt.margins(0.01, 0.05)\n",
    "\n",
    "plt.show()"
   ]
  },
  {
   "cell_type": "code",
   "execution_count": 10,
   "metadata": {
    "collapsed": true
   },
   "outputs": [],
   "source": [
    "qso_gp_sqex1 = GaussianProcess(corr='squared_exponential', theta0=0.5, thetaL = 0.001, thetaU = 100)\n",
    "qso_gp_ex1 = GaussianProcess(corr='absolute_exponential', theta0=0.5, thetaL = 0.001, thetaU = 100)\n",
    "#qso_gp_qper = GaussianProcess(corr='quasi_periodic', theta0=0.5, thetaL = 0.001, thetaU = 100)"
   ]
  },
  {
   "cell_type": "code",
   "execution_count": 11,
   "metadata": {
    "collapsed": false
   },
   "outputs": [
    {
     "name": "stdout",
     "output_type": "stream",
     "text": [
      "Optimization failed. Try increasing the ``nugget``\n"
     ]
    },
    {
     "ename": "ValueError",
     "evalue": "array must not contain infs or NaNs",
     "output_type": "error",
     "traceback": [
      "\u001b[0;31m---------------------------------------------------------------------------\u001b[0m",
      "\u001b[0;31mValueError\u001b[0m                                Traceback (most recent call last)",
      "\u001b[0;32m<ipython-input-11-2581a254b343>\u001b[0m in \u001b[0;36m<module>\u001b[0;34m()\u001b[0m\n\u001b[0;32m----> 1\u001b[0;31m \u001b[0mqso_gp_sqex1\u001b[0m\u001b[0;34m.\u001b[0m\u001b[0mfit\u001b[0m\u001b[0;34m(\u001b[0m\u001b[0mqso\u001b[0m\u001b[0;34m[\u001b[0m\u001b[0;34m'time'\u001b[0m\u001b[0;34m]\u001b[0m\u001b[0;34m.\u001b[0m\u001b[0mreshape\u001b[0m\u001b[0;34m(\u001b[0m\u001b[0;34m-\u001b[0m\u001b[0;36m1\u001b[0m\u001b[0;34m,\u001b[0m\u001b[0;36m1\u001b[0m\u001b[0;34m)\u001b[0m\u001b[0;34m,\u001b[0m \u001b[0mqso\u001b[0m\u001b[0;34m[\u001b[0m\u001b[0;34m'mag'\u001b[0m\u001b[0;34m]\u001b[0m\u001b[0;34m.\u001b[0m\u001b[0mreshape\u001b[0m\u001b[0;34m(\u001b[0m\u001b[0;34m-\u001b[0m\u001b[0;36m1\u001b[0m\u001b[0;34m,\u001b[0m\u001b[0;36m1\u001b[0m\u001b[0;34m)\u001b[0m\u001b[0;34m)\u001b[0m\u001b[0;34m\u001b[0m\u001b[0m\n\u001b[0m",
      "\u001b[0;32m/Users/mariasuveges/anaconda/lib/python2.7/site-packages/sklearn/gaussian_process/gaussian_process.pyc\u001b[0m in \u001b[0;36mfit\u001b[0;34m(self, X, y)\u001b[0m\n\u001b[1;32m    338\u001b[0m                       \"autocorrelation parameters...\")\n\u001b[1;32m    339\u001b[0m             \u001b[0mself\u001b[0m\u001b[0;34m.\u001b[0m\u001b[0mtheta_\u001b[0m\u001b[0;34m,\u001b[0m \u001b[0mself\u001b[0m\u001b[0;34m.\u001b[0m\u001b[0mreduced_likelihood_function_value_\u001b[0m\u001b[0;34m,\u001b[0m \u001b[0mpar\u001b[0m \u001b[0;34m=\u001b[0m\u001b[0;31m \u001b[0m\u001b[0;31m\\\u001b[0m\u001b[0;34m\u001b[0m\u001b[0m\n\u001b[0;32m--> 340\u001b[0;31m                 \u001b[0mself\u001b[0m\u001b[0;34m.\u001b[0m\u001b[0m_arg_max_reduced_likelihood_function\u001b[0m\u001b[0;34m(\u001b[0m\u001b[0;34m)\u001b[0m\u001b[0;34m\u001b[0m\u001b[0m\n\u001b[0m\u001b[1;32m    341\u001b[0m             \u001b[0;32mif\u001b[0m \u001b[0mnp\u001b[0m\u001b[0;34m.\u001b[0m\u001b[0misinf\u001b[0m\u001b[0;34m(\u001b[0m\u001b[0mself\u001b[0m\u001b[0;34m.\u001b[0m\u001b[0mreduced_likelihood_function_value_\u001b[0m\u001b[0;34m)\u001b[0m\u001b[0;34m:\u001b[0m\u001b[0;34m\u001b[0m\u001b[0m\n\u001b[1;32m    342\u001b[0m                 raise Exception(\"Bad parameter region. \"\n",
      "\u001b[0;32m/Users/mariasuveges/anaconda/lib/python2.7/site-packages/sklearn/gaussian_process/gaussian_process.pyc\u001b[0m in \u001b[0;36m_arg_max_reduced_likelihood_function\u001b[0;34m(self)\u001b[0m\n\u001b[1;32m    732\u001b[0m                 \u001b[0;32mexcept\u001b[0m \u001b[0mValueError\u001b[0m \u001b[0;32mas\u001b[0m \u001b[0mve\u001b[0m\u001b[0;34m:\u001b[0m\u001b[0;34m\u001b[0m\u001b[0m\n\u001b[1;32m    733\u001b[0m                     \u001b[0;32mprint\u001b[0m\u001b[0;34m(\u001b[0m\u001b[0;34m\"Optimization failed. Try increasing the ``nugget``\"\u001b[0m\u001b[0;34m)\u001b[0m\u001b[0;34m\u001b[0m\u001b[0m\n\u001b[0;32m--> 734\u001b[0;31m                     \u001b[0;32mraise\u001b[0m \u001b[0mve\u001b[0m\u001b[0;34m\u001b[0m\u001b[0m\n\u001b[0m\u001b[1;32m    735\u001b[0m \u001b[0;34m\u001b[0m\u001b[0m\n\u001b[1;32m    736\u001b[0m                 \u001b[0moptimal_theta\u001b[0m \u001b[0;34m=\u001b[0m \u001b[0;36m10.\u001b[0m \u001b[0;34m**\u001b[0m \u001b[0mlog10_optimal_theta\u001b[0m\u001b[0;34m\u001b[0m\u001b[0m\n",
      "\u001b[0;31mValueError\u001b[0m: array must not contain infs or NaNs"
     ]
    }
   ],
   "source": [
    "qso_gp_sqex1.fit(qso['time'].reshape(-1,1), qso['mag'].reshape(-1,1))"
   ]
  },
  {
   "cell_type": "code",
   "execution_count": 12,
   "metadata": {
    "collapsed": true
   },
   "outputs": [],
   "source": [
    "m_var = np.mean(qso['mag.error'].reshape(-1,1)**2)"
   ]
  },
  {
   "cell_type": "code",
   "execution_count": 23,
   "metadata": {
    "collapsed": false
   },
   "outputs": [],
   "source": [
    "qso_gp_sqex1 = GaussianProcess(corr='squared_exponential', theta0=100, thetaL = 1, thetaU = 1000,\n",
    "                              nugget = m_var)\n",
    "qso_gp_ex1 = GaussianProcess(corr='absolute_exponential', theta0=100, thetaL = 0.001, thetaU = 1000,\n",
    "                              nugget = m_var)"
   ]
  },
  {
   "cell_type": "code",
   "execution_count": 24,
   "metadata": {
    "collapsed": false
   },
   "outputs": [
    {
     "data": {
      "text/plain": [
       "GaussianProcess(beta0=None,\n",
       "        corr=<function absolute_exponential at 0x11a7baf50>,\n",
       "        normalize=True, nugget=array(0.019223548638132297),\n",
       "        optimizer='fmin_cobyla', random_start=1,\n",
       "        random_state=<mtrand.RandomState object at 0x10b89da50>,\n",
       "        regr=<function constant at 0x11a7bac08>, storage_mode='full',\n",
       "        theta0=array([[100]]), thetaL=array([[ 0.001]]),\n",
       "        thetaU=array([[1000]]), verbose=False)"
      ]
     },
     "execution_count": 24,
     "metadata": {},
     "output_type": "execute_result"
    }
   ],
   "source": [
    "qso_gp_sqex1.fit(qso['time'].reshape(-1,1), qso['mag'].reshape(-1,1))\n",
    "qso_gp_ex1.fit(qso['time'].reshape(-1,1), qso['mag'].reshape(-1,1))"
   ]
  },
  {
   "cell_type": "code",
   "execution_count": 15,
   "metadata": {
    "collapsed": false
   },
   "outputs": [
    {
     "name": "stdout",
     "output_type": "stream",
     "text": [
      "Decay parameter in the squared exp. model: [ 724.1343358]\n",
      "Decay parameter in the absolute exp. model: [ 0.70350626]\n"
     ]
    }
   ],
   "source": [
    "print \"Decay parameter in the squared exp. model:\", qso_gp_sqex1.theta_\n",
    "print \"Decay parameter in the absolute exp. model:\", qso_gp_ex1.theta_"
   ]
  },
  {
   "cell_type": "code",
   "execution_count": 16,
   "metadata": {
    "collapsed": false
   },
   "outputs": [
    {
     "name": "stdout",
     "output_type": "stream",
     "text": [
      "Variance in the squared exp. model: [ 0.42111779]\n",
      "Variance in the absolute exp. model: [ 0.49837257]\n"
     ]
    }
   ],
   "source": [
    "print \"Variance in the squared exp. model:\", qso_gp_sqex1.sigma2\n",
    "print \"Variance in the absolute exp. model:\", qso_gp_ex1.sigma2"
   ]
  },
  {
   "cell_type": "code",
   "execution_count": 17,
   "metadata": {
    "collapsed": false
   },
   "outputs": [
    {
     "name": "stdout",
     "output_type": "stream",
     "text": [
      "R2 in the squared exp. model: 0.900348284646\n",
      "R2 in the absolute exp. model: 0.893363117686\n"
     ]
    }
   ],
   "source": [
    "print \"R2 in the squared exp. model:\", qso_gp_sqex1.score(qso['time'].reshape(-1,1), qso['mag'].reshape(-1,1))\n",
    "print \"R2 in the absolute exp. model:\",  qso_gp_ex1.score(qso['time'].reshape(-1,1), qso['mag'].reshape(-1,1))"
   ]
  },
  {
   "cell_type": "code",
   "execution_count": 26,
   "metadata": {
    "collapsed": false
   },
   "outputs": [],
   "source": [
    "tt = np.linspace(qso['time'].min(), qso['time'].max(), 500)\n",
    "qso_gp_sqex1_pred, qso_gp_sqex1_mse = qso_gp_sqex1.predict(tt.reshape(-1,1), eval_MSE=True)\n",
    "qso_gp_ex1_pred, qso_gp_ex1_mse = qso_gp_ex1.predict(tt.reshape(-1,1), eval_MSE=True)"
   ]
  },
  {
   "cell_type": "code",
   "execution_count": 27,
   "metadata": {
    "collapsed": false
   },
   "outputs": [],
   "source": [
    "plt.rcParams[\"figure.figsize\"] = [16., 5.]\n",
    "fig = plt.figure(1)\n",
    "plt.subplots_adjust(left=0.07, bottom=0.05, right=0.95, top=0.95, wspace=None, hspace=0.35)\n",
    "\n",
    "ax = fig.add_subplot(121)\n",
    "plt.gca().invert_yaxis()\n",
    "ax.plot(tt, qso_gp_sqex1_pred, '-', color='gray')\n",
    "ax.fill_between(tt, qso_gp_sqex1_pred.reshape(len(tt)) - 2 * np.sqrt(qso_gp_sqex1_mse), \n",
    "                qso_gp_sqex1_pred.reshape(len(tt)) + 2 * np.sqrt(qso_gp_sqex1_mse), \n",
    "                color='gray', alpha=0.3)\n",
    "ax.errorbar(qso['time'], qso['mag'], qso['mag.error'], fmt='.k', ms=6)\n",
    "ax.set_xlabel('Time [d]')\n",
    "ax.set_xlabel('Magnitude')\n",
    "plt.title('Squared exponential model')\n",
    "\n",
    "ax = fig.add_subplot(122)\n",
    "plt.gca().invert_yaxis()\n",
    "ax.plot(tt, qso_gp_ex1_pred, '-', color='gray')\n",
    "ax.fill_between(tt, qso_gp_ex1_pred.reshape(len(tt)) - 2 * np.sqrt(qso_gp_ex1_mse), \n",
    "                qso_gp_ex1_pred.reshape(len(tt)) + 2 * np.sqrt(qso_gp_ex1_mse), \n",
    "                color='gray', alpha=0.3)\n",
    "ax.errorbar(qso['time'], qso['mag'], qso['mag.error'], fmt='.k', ms=6)\n",
    "ax.set_xlabel('Time [d]')\n",
    "ax.set_xlabel('Magnitude')\n",
    "plt.title('Absolute exponential model')\n",
    "\n",
    "\n",
    "#plt.xlim(-0.1,4.)\n",
    "\n",
    "plt.show()"
   ]
  },
  {
   "cell_type": "code",
   "execution_count": 25,
   "metadata": {
    "collapsed": false
   },
   "outputs": [
    {
     "data": {
      "text/plain": [
       "0      52614.441053\n",
       "1      52614.455676\n",
       "2      52614.470258\n",
       "3      52614.484710\n",
       "4      52614.499167\n",
       "5      52639.474467\n",
       "6      52639.489376\n",
       "7      52639.504193\n",
       "8      52639.520292\n",
       "9      52646.408548\n",
       "10     52646.424298\n",
       "11     52646.439271\n",
       "12     52646.454384\n",
       "13     52646.469368\n",
       "14     52649.459402\n",
       "15     52649.505003\n",
       "16     52666.389879\n",
       "17     52666.405110\n",
       "18     52666.420191\n",
       "19     52666.435467\n",
       "20     52666.450410\n",
       "21     52672.395909\n",
       "22     52672.411899\n",
       "23     52672.434211\n",
       "24     52672.454622\n",
       "25     52676.356761\n",
       "26     52706.305411\n",
       "27     52706.318769\n",
       "28     52706.332052\n",
       "29     52706.345294\n",
       "           ...     \n",
       "227    54477.411342\n",
       "228    54477.424405\n",
       "229    54477.437246\n",
       "230    54477.450111\n",
       "231    54539.262513\n",
       "232    54539.273377\n",
       "233    54539.284246\n",
       "234    54539.295166\n",
       "235    54539.306161\n",
       "236    54568.236671\n",
       "237    54568.247769\n",
       "238    54568.258748\n",
       "239    54568.269927\n",
       "240    54568.281070\n",
       "241    54581.273108\n",
       "242    54597.202529\n",
       "243    54597.213122\n",
       "244    54597.223846\n",
       "245    54597.234408\n",
       "246    54597.245012\n",
       "247    54612.203209\n",
       "248    54612.211774\n",
       "249    54612.221256\n",
       "250    54612.229815\n",
       "251    54612.238331\n",
       "252    54620.171120\n",
       "253    54620.181336\n",
       "254    54620.191458\n",
       "255    54620.201583\n",
       "256    54620.211700\n",
       "Name: time, dtype: float64"
      ]
     },
     "execution_count": 25,
     "metadata": {},
     "output_type": "execute_result"
    }
   ],
   "source": [
    "qso['time']\n"
   ]
  },
  {
   "cell_type": "code",
   "execution_count": null,
   "metadata": {
    "collapsed": false
   },
   "outputs": [],
   "source": [
    "dir()"
   ]
  },
  {
   "cell_type": "code",
   "execution_count": null,
   "metadata": {
    "collapsed": false
   },
   "outputs": [],
   "source": [
    "GaussianProcess?"
   ]
  },
  {
   "cell_type": "code",
   "execution_count": null,
   "metadata": {
    "collapsed": false
   },
   "outputs": [],
   "source": []
  },
  {
   "cell_type": "code",
   "execution_count": null,
   "metadata": {
    "collapsed": true
   },
   "outputs": [],
   "source": [
    "(y - y_pred)/np.sqrt(dy_pred)"
   ]
  },
  {
   "cell_type": "code",
   "execution_count": null,
   "metadata": {
    "collapsed": false
   },
   "outputs": [],
   "source": [
    "#fig = plt.figure()\n",
    "sm.qqplot((y - y_pred)/np.sqrt(dy_pred), line = '45')\n",
    "plt.show()"
   ]
  },
  {
   "cell_type": "markdown",
   "metadata": {},
   "source": [
    "fftpack.fft\n",
    "fftpack.ifft\n",
    "fftpack.fftshift: it puts the Fourier frequencies from -Ndf/2+1, -Ndf/2+2,... -1 after Ndf/2 "
   ]
  },
  {
   "cell_type": "code",
   "execution_count": null,
   "metadata": {
    "collapsed": false
   },
   "outputs": [],
   "source": [
    "dir(fftpack)"
   ]
  },
  {
   "cell_type": "code",
   "execution_count": null,
   "metadata": {
    "collapsed": true
   },
   "outputs": [],
   "source": [
    "from matplotlib.mlab import specgram"
   ]
  },
  {
   "cell_type": "code",
   "execution_count": null,
   "metadata": {
    "collapsed": true
   },
   "outputs": [],
   "source": [
    "specgram?"
   ]
  },
  {
   "cell_type": "code",
   "execution_count": null,
   "metadata": {
    "collapsed": true
   },
   "outputs": [],
   "source": [
    "import pywt"
   ]
  },
  {
   "cell_type": "code",
   "execution_count": null,
   "metadata": {
    "collapsed": true
   },
   "outputs": [],
   "source": [
    "import astroML.time_series as ts"
   ]
  },
  {
   "cell_type": "code",
   "execution_count": null,
   "metadata": {
    "collapsed": false
   },
   "outputs": [],
   "source": [
    "dir(astroML.time_series)"
   ]
  },
  {
   "cell_type": "code",
   "execution_count": null,
   "metadata": {
    "collapsed": true
   },
   "outputs": [],
   "source": [
    "ts.periodogram?\n"
   ]
  },
  {
   "cell_type": "code",
   "execution_count": null,
   "metadata": {
    "collapsed": false
   },
   "outputs": [],
   "source": [
    "ravel?"
   ]
  },
  {
   "cell_type": "code",
   "execution_count": null,
   "metadata": {
    "collapsed": true
   },
   "outputs": [],
   "source": []
  }
 ],
 "metadata": {
  "kernelspec": {
   "display_name": "Python 2",
   "language": "python",
   "name": "python2"
  },
  "language_info": {
   "codemirror_mode": {
    "name": "ipython",
    "version": 2
   },
   "file_extension": ".py",
   "mimetype": "text/x-python",
   "name": "python",
   "nbconvert_exporter": "python",
   "pygments_lexer": "ipython2",
   "version": "2.7.11"
  }
 },
 "nbformat": 4,
 "nbformat_minor": 0
}
